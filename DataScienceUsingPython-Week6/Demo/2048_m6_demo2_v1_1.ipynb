{
 "cells": [
  {
   "cell_type": "markdown",
   "metadata": {
    "id": "RzSCr52ucMgV"
   },
   "source": [
    "<h2><u>Data Science Using Python</u></h2>\n",
    "\n",
    "# Module 6: Data Manipulation\n",
    "\n",
    "<h2>Demo 2: Functionality of DataFrame</h2>\n",
    "\n",
    "In this demo, you will be shown how to use DataFrames to represent data using Python."
   ]
  },
  {
   "cell_type": "markdown",
   "metadata": {
    "id": "GkHITYRQcMgZ"
   },
   "source": [
    "##### Question 1:\n",
    "\n",
    "Perform the following pandas operations\n",
    "\n",
    "    1) From the raw data below create a DataFrame\n",
    "    \n",
    "    'first_name': ['Jason', 'Molly', 'Tina', 'Jake', 'Amy'], \n",
    "    'last_name': ['Miller', 'Jacobson', \".\", 'Milner', 'Cooze'], \n",
    "    'age': [42, 52, 36, 24, 73], \n",
    "    'preTestScore': [4, 24, 31, \".\", \".\"],\n",
    "    'postTestScore': [\"25,000\", \"94,000\", 57, 62, 70]\n",
    "\n",
    "    2) Save the dataFrame into a csv file as example.csv\n",
    "    3) Read the example.csv and print the DataFrame\n",
    "    4) Read the example.csv without column heading\n",
    "    5) Read the example.csv and make the index columns as 'First Name’ and 'Last   Name'\n",
    "    6) Read the first 3 rows of the dataFrame and print the dataFrame\n",
    "    7) The column 'postTestScore' has \",\" in their values around numbers to represent thousands. Load example.csv file which ignores the default behaviour of comma while reading the 'postTestScore' column \n"
   ]
  },
  {
   "cell_type": "code",
   "execution_count": null,
   "metadata": {
    "colab": {
     "base_uri": "https://localhost:8080/"
    },
    "id": "_cgGp8BHcMga",
    "outputId": "e011b0dc-45e0-49fe-8053-ae13388f46e9"
   },
   "outputs": [
    {
     "name": "stdout",
     "output_type": "stream",
     "text": [
      "  first_name last_name  age preTestScore postTestScore\n",
      "0      Jason    Miller   42            4        25,000\n",
      "1      Molly  Jacobson   52           24        94,000\n",
      "2       Tina         .   36           31            57\n",
      "3       Jake    Milner   24            .            62\n",
      "4        Amy     Cooze   73            .            70\n"
     ]
    }
   ],
   "source": [
    "# Import the required libraries\n",
    "\n",
    "import pandas as pd\n",
    "import numpy as np\n",
    "\n",
    "# 1.1\n",
    "\n",
    "raw_data = {'first_name': ['Jason', 'Molly', 'Tina', 'Jake', 'Amy'],\n",
    "        'last_name': ['Miller', 'Jacobson', \".\", 'Milner', 'Cooze'],\n",
    "        'age': [42, 52, 36, 24, 73],\n",
    "        'preTestScore': [4, 24, 31, \".\", \".\"],\n",
    "        'postTestScore': [\"25,000\", \"94,000\", 57, 62, 70]}\n",
    "df = pd.DataFrame(raw_data, columns = ['first_name', 'last_name', 'age', 'preTestScore', 'postTestScore'])\n",
    "print(df)\n"
   ]
  },
  {
   "cell_type": "code",
   "execution_count": null,
   "metadata": {
    "id": "OrKi4fCscMgc"
   },
   "outputs": [],
   "source": [
    "# 1.2 Save the DataFrame into a CSV file\n",
    "\n",
    "df.to_csv('example.csv')"
   ]
  },
  {
   "cell_type": "code",
   "execution_count": null,
   "metadata": {
    "colab": {
     "base_uri": "https://localhost:8080/"
    },
    "id": "LD_Qr_uEcMgc",
    "outputId": "3c8cd724-b2a4-44bf-dcf8-f43df29e802a"
   },
   "outputs": [
    {
     "name": "stdout",
     "output_type": "stream",
     "text": [
      "   Unnamed: 0 first_name last_name  age preTestScore postTestScore\n",
      "0           0      Jason    Miller   42            4        25,000\n",
      "1           1      Molly  Jacobson   52           24        94,000\n",
      "2           2       Tina         .   36           31            57\n",
      "3           3       Jake    Milner   24            .            62\n",
      "4           4        Amy     Cooze   73            .            70\n"
     ]
    }
   ],
   "source": [
    "# 1.3 Read data from CSV and print the DataFrame\n",
    "\n",
    "df = pd.read_csv('example.csv', header=0)\n",
    "print(df)"
   ]
  },
  {
   "cell_type": "code",
   "execution_count": null,
   "metadata": {
    "colab": {
     "base_uri": "https://localhost:8080/"
    },
    "id": "08GpTcbBcMgd",
    "outputId": "4d9eade5-f5ab-48b2-e234-3644767f6032"
   },
   "outputs": [
    {
     "name": "stdout",
     "output_type": "stream",
     "text": [
      "     0           1          2    3             4              5\n",
      "0  NaN  first_name  last_name  age  preTestScore  postTestScore\n",
      "1  0.0       Jason     Miller   42             4         25,000\n",
      "2  1.0       Molly   Jacobson   52            24         94,000\n",
      "3  2.0        Tina          .   36            31             57\n",
      "4  3.0        Jake     Milner   24             .             62\n",
      "5  4.0         Amy      Cooze   73             .             70\n"
     ]
    }
   ],
   "source": [
    "# 1.4 Read data from CSV without headers\n",
    "\n",
    "df = pd.read_csv('example.csv', header=None)\n",
    "print(df)"
   ]
  },
  {
   "cell_type": "code",
   "execution_count": null,
   "metadata": {
    "colab": {
     "base_uri": "https://localhost:8080/"
    },
    "id": "MivIZ_ALcMgd",
    "outputId": "c130f4b4-dce4-404a-c9f8-3c52ef065f31"
   },
   "outputs": [
    {
     "name": "stdout",
     "output_type": "stream",
     "text": [
      "                      UID  Age Pre-Test Score Post-Test Score\n",
      "First Name Last Name                                         \n",
      "Jason      Miller       0   42              4          25,000\n",
      "Molly      Jacobson     1   52             24          94,000\n",
      "Tina       .            2   36             31              57\n",
      "Jake       Milner       3   24              .              62\n",
      "Amy        Cooze        4   73              .              70\n"
     ]
    }
   ],
   "source": [
    "# 1.5 Read the data again with headers and make the index columns as 'First Name’ and 'Last Name'\n",
    "\n",
    "df = pd.read_csv('example.csv', header=0, index_col=['First Name', 'Last Name'], \n",
    "                 names=['UID', 'First Name', 'Last Name', 'Age', 'Pre-Test Score', 'Post-Test Score'])\n",
    "print(df)"
   ]
  },
  {
   "cell_type": "code",
   "execution_count": null,
   "metadata": {
    "colab": {
     "base_uri": "https://localhost:8080/"
    },
    "id": "W_Y-Y_n9cMge",
    "outputId": "ec435534-88f8-451b-844f-73276c81a1c9"
   },
   "outputs": [
    {
     "name": "stdout",
     "output_type": "stream",
     "text": [
      "   Unnamed: 0 first_name last_name  age  preTestScore postTestScore\n",
      "0           0      Jason    Miller   42             4        25,000\n",
      "1           1      Molly  Jacobson   52            24        94,000\n",
      "2           2       Tina         .   36            31            57\n"
     ]
    }
   ],
   "source": [
    "# 1.6 Read the first 3 rows of the DataFrame and print the DataFrame\n",
    "\n",
    "df = pd.read_csv('example.csv', nrows=3)\n",
    "print(df)"
   ]
  },
  {
   "cell_type": "code",
   "execution_count": null,
   "metadata": {
    "colab": {
     "base_uri": "https://localhost:8080/"
    },
    "id": "TBX26lxTcMgf",
    "outputId": "171be74d-6377-403d-bb59-a16c693af1e5"
   },
   "outputs": [
    {
     "name": "stdout",
     "output_type": "stream",
     "text": [
      "   Unnamed: 0 first_name last_name  age preTestScore  postTestScore\n",
      "0           0      Jason    Miller   42            4          25000\n",
      "1           1      Molly  Jacobson   52           24          94000\n",
      "2           2       Tina         .   36           31             57\n",
      "3           3       Jake    Milner   24            .             62\n",
      "4           4        Amy     Cooze   73            .             70\n"
     ]
    }
   ],
   "source": [
    "# 1.7\n",
    "df = pd.read_csv('example.csv',  thousands=',')\n",
    "print(df)"
   ]
  },
  {
   "cell_type": "markdown",
   "metadata": {
    "id": "8eSN3nnScMgf"
   },
   "source": [
    "##### Question 2:\n",
    "\n",
    "    1) Read diabetes data from a CSV file\n",
    "    2) Print the first 10 rows and last 5 of the DataFrame\n",
    "    3) Display a summary of the data in DataFrame\n",
    "    4) Display summary of only Glucose column\n",
    "    5) Take a sample of the data using first 15 rows\n",
    "    6) Add a new column \"New_Age\" in the DataFrame by adding 1 to values in existing \"Age\" column\n",
    "    7) Drop the column \"SkinThickness\" as it is not relevant to our analysis\n",
    "    8) Filter rows where patient's age is greater than or equal to 50 since such patients have high possibility of having diabetes. Use column New_Age. Incorporate another condition for filtering rows as Outcome = 1.\n",
    "    9) Sort values in the DataFrame df4 by \"Glucose\" in descending order"
   ]
  },
  {
   "cell_type": "code",
   "execution_count": null,
   "metadata": {
    "colab": {
     "base_uri": "https://localhost:8080/"
    },
    "id": "k9_WljplcMgg",
    "outputId": "e555bf9c-a768-4a66-bacd-41ff172b26c9"
   },
   "outputs": [
    {
     "name": "stdout",
     "output_type": "stream",
     "text": [
      "   Pregnancies  Glucose  BloodPressure  SkinThickness  Insulin   BMI  \\\n",
      "0            6      148             72             35    250.0  33.6   \n",
      "1            1       85             66             29    300.0  26.6   \n",
      "2            8      183             64              0      NaN  23.3   \n",
      "3            1       89             66             23     94.0  28.1   \n",
      "4            0      137             40             35    168.0  43.1   \n",
      "5            5      116             74              0      NaN  25.6   \n",
      "6            3       78             50             32     88.0  31.0   \n",
      "7           10      115              0              0    400.0  35.3   \n",
      "8            2      197             70             45    543.0  30.5   \n",
      "9            8      125             96              0      0.0   0.0   \n",
      "\n",
      "   DiabetesPedigreeFunction  Age  Outcome  \n",
      "0                     0.627   50        1  \n",
      "1                     0.351   31        0  \n",
      "2                     0.672   32        1  \n",
      "3                     0.167   21        0  \n",
      "4                     2.288   33        1  \n",
      "5                     0.201   30        0  \n",
      "6                     0.248   26        1  \n",
      "7                     0.134   29        0  \n",
      "8                     0.158   53        1  \n",
      "9                     0.232   54        1  \n"
     ]
    }
   ],
   "source": [
    "# Read diabetes data from a CSV file\n",
    "\n",
    "df = pd.read_csv('diabetes.csv')\n",
    "\n",
    "\n",
    "# Print the first 10 rows of the DataFrame\n",
    "print(df.head(10))"
   ]
  },
  {
   "cell_type": "code",
   "execution_count": null,
   "metadata": {
    "colab": {
     "base_uri": "https://localhost:8080/"
    },
    "id": "LB-f60DCcMgg",
    "outputId": "a776dd1b-fd4b-4640-d8bc-49e3928cac5d"
   },
   "outputs": [
    {
     "name": "stdout",
     "output_type": "stream",
     "text": [
      "     Pregnancies  Glucose  BloodPressure  SkinThickness  Insulin   BMI  \\\n",
      "763           10      101             76             48    180.0  32.9   \n",
      "764            2      122             70             27      0.0  36.8   \n",
      "765            5      121             72             23    112.0  26.2   \n",
      "766            1      126             60              0      0.0  30.1   \n",
      "767            1       93             70             31      0.0  30.4   \n",
      "\n",
      "     DiabetesPedigreeFunction  Age  Outcome  \n",
      "763                     0.171   63        0  \n",
      "764                     0.340   27        0  \n",
      "765                     0.245   30        0  \n",
      "766                     0.349   47        1  \n",
      "767                     0.315   23        0  \n"
     ]
    }
   ],
   "source": [
    "# Print the last 5 rows of the DataFrame\n",
    "print(df.tail())"
   ]
  },
  {
   "cell_type": "code",
   "execution_count": null,
   "metadata": {
    "colab": {
     "base_uri": "https://localhost:8080/"
    },
    "id": "oNrITBhNcMgh",
    "outputId": "cdeeb33f-97b1-47cf-fe57-5b1e9a63212d"
   },
   "outputs": [
    {
     "name": "stdout",
     "output_type": "stream",
     "text": [
      "       Pregnancies     Glucose  BloodPressure  SkinThickness     Insulin  \\\n",
      "count   768.000000  768.000000     768.000000     768.000000  766.000000   \n",
      "mean      3.845052  120.894531      69.105469      20.536458   81.248042   \n",
      "std       3.369578   31.972618      19.355807      15.952218  116.221576   \n",
      "min       0.000000    0.000000       0.000000       0.000000    0.000000   \n",
      "25%       1.000000   99.000000      62.000000       0.000000    0.000000   \n",
      "50%       3.000000  117.000000      72.000000      23.000000   36.500000   \n",
      "75%       6.000000  140.250000      80.000000      32.000000  130.000000   \n",
      "max      17.000000  199.000000     122.000000      99.000000  846.000000   \n",
      "\n",
      "              BMI  DiabetesPedigreeFunction         Age     Outcome  \n",
      "count  768.000000                768.000000  768.000000  768.000000  \n",
      "mean    31.992578                  0.471876   33.240885    0.348958  \n",
      "std      7.884160                  0.331329   11.760232    0.476951  \n",
      "min      0.000000                  0.078000   21.000000    0.000000  \n",
      "25%     27.300000                  0.243750   24.000000    0.000000  \n",
      "50%     32.000000                  0.372500   29.000000    0.000000  \n",
      "75%     36.600000                  0.626250   41.000000    1.000000  \n",
      "max     67.100000                  2.420000   81.000000    1.000000  \n"
     ]
    }
   ],
   "source": [
    "# Display a summary of the data in DataFrame\n",
    "print(df.describe())"
   ]
  },
  {
   "cell_type": "code",
   "execution_count": null,
   "metadata": {
    "colab": {
     "base_uri": "https://localhost:8080/"
    },
    "id": "s19vczSTcMgh",
    "outputId": "9e1ee471-d5d6-4dc9-8d7b-d9429d4002af"
   },
   "outputs": [
    {
     "name": "stdout",
     "output_type": "stream",
     "text": [
      "count    768.000000\n",
      "mean     120.894531\n",
      "std       31.972618\n",
      "min        0.000000\n",
      "25%       99.000000\n",
      "50%      117.000000\n",
      "75%      140.250000\n",
      "max      199.000000\n",
      "Name: Glucose, dtype: float64\n"
     ]
    }
   ],
   "source": [
    "# Display summary of only Glucose column\n",
    "print(df.Glucose.describe())"
   ]
  },
  {
   "cell_type": "code",
   "execution_count": null,
   "metadata": {
    "colab": {
     "base_uri": "https://localhost:8080/"
    },
    "id": "XAYCX_vTcMgh",
    "outputId": "ed6050e9-941e-4c48-b361-43bee624aaac"
   },
   "outputs": [
    {
     "name": "stdout",
     "output_type": "stream",
     "text": [
      "    Pregnancies  Glucose  BloodPressure  SkinThickness  Insulin   BMI  \\\n",
      "0             6      148             72             35    250.0  33.6   \n",
      "1             1       85             66             29    300.0  26.6   \n",
      "2             8      183             64              0      NaN  23.3   \n",
      "3             1       89             66             23     94.0  28.1   \n",
      "4             0      137             40             35    168.0  43.1   \n",
      "5             5      116             74              0      NaN  25.6   \n",
      "6             3       78             50             32     88.0  31.0   \n",
      "7            10      115              0              0    400.0  35.3   \n",
      "8             2      197             70             45    543.0  30.5   \n",
      "9             8      125             96              0      0.0   0.0   \n",
      "10            4      110             92              0      0.0  37.6   \n",
      "11           10      168             74              0      0.0  38.0   \n",
      "12           10      139             80              0      0.0  27.1   \n",
      "13            1      189             60             23    846.0  30.1   \n",
      "14            5      166             72             19    175.0  25.8   \n",
      "\n",
      "    DiabetesPedigreeFunction  Age  Outcome  \n",
      "0                      0.627   50        1  \n",
      "1                      0.351   31        0  \n",
      "2                      0.672   32        1  \n",
      "3                      0.167   21        0  \n",
      "4                      2.288   33        1  \n",
      "5                      0.201   30        0  \n",
      "6                      0.248   26        1  \n",
      "7                      0.134   29        0  \n",
      "8                      0.158   53        1  \n",
      "9                      0.232   54        1  \n",
      "10                     0.191   30        0  \n",
      "11                     0.537   34        1  \n",
      "12                     1.441   57        0  \n",
      "13                     0.398   59        1  \n",
      "14                     0.587   51        1  \n"
     ]
    }
   ],
   "source": [
    "# Take a sample of the data using first 15 rows\n",
    "df2 = df.iloc[:15]\n",
    "print(df2)"
   ]
  },
  {
   "cell_type": "code",
   "execution_count": null,
   "metadata": {
    "colab": {
     "base_uri": "https://localhost:8080/"
    },
    "id": "gL5mF55acMgi",
    "outputId": "9f5939fa-9e8f-40af-ad91-82bf220f8e49"
   },
   "outputs": [
    {
     "name": "stdout",
     "output_type": "stream",
     "text": [
      "    Pregnancies  Glucose  BloodPressure  SkinThickness  Insulin   BMI  \\\n",
      "0             6      148             72             35    250.0  33.6   \n",
      "1             1       85             66             29    300.0  26.6   \n",
      "2             8      183             64              0      NaN  23.3   \n",
      "3             1       89             66             23     94.0  28.1   \n",
      "4             0      137             40             35    168.0  43.1   \n",
      "5             5      116             74              0      NaN  25.6   \n",
      "6             3       78             50             32     88.0  31.0   \n",
      "7            10      115              0              0    400.0  35.3   \n",
      "8             2      197             70             45    543.0  30.5   \n",
      "9             8      125             96              0      0.0   0.0   \n",
      "10            4      110             92              0      0.0  37.6   \n",
      "11           10      168             74              0      0.0  38.0   \n",
      "12           10      139             80              0      0.0  27.1   \n",
      "13            1      189             60             23    846.0  30.1   \n",
      "14            5      166             72             19    175.0  25.8   \n",
      "\n",
      "    DiabetesPedigreeFunction  Age  Outcome  New_Age  \n",
      "0                      0.627   50        1       51  \n",
      "1                      0.351   31        0       32  \n",
      "2                      0.672   32        1       33  \n",
      "3                      0.167   21        0       22  \n",
      "4                      2.288   33        1       34  \n",
      "5                      0.201   30        0       31  \n",
      "6                      0.248   26        1       27  \n",
      "7                      0.134   29        0       30  \n",
      "8                      0.158   53        1       54  \n",
      "9                      0.232   54        1       55  \n",
      "10                     0.191   30        0       31  \n",
      "11                     0.537   34        1       35  \n",
      "12                     1.441   57        0       58  \n",
      "13                     0.398   59        1       60  \n",
      "14                     0.587   51        1       52  \n"
     ]
    },
    {
     "name": "stderr",
     "output_type": "stream",
     "text": [
      "<ipython-input-13-80c7108f3a83>:2: SettingWithCopyWarning: \n",
      "A value is trying to be set on a copy of a slice from a DataFrame.\n",
      "Try using .loc[row_indexer,col_indexer] = value instead\n",
      "\n",
      "See the caveats in the documentation: https://pandas.pydata.org/pandas-docs/stable/user_guide/indexing.html#returning-a-view-versus-a-copy\n",
      "  df2['New_Age']=df['Age'] + 1\n"
     ]
    }
   ],
   "source": [
    "# Add a new column \"New_Age\" in the dataframe by adding 1 to values in existing \"Age\" column\n",
    "df2['New_Age']=df['Age'] + 1\n",
    "print(df2)"
   ]
  },
  {
   "cell_type": "code",
   "execution_count": null,
   "metadata": {
    "colab": {
     "base_uri": "https://localhost:8080/"
    },
    "id": "z-6nw7pBcMgi",
    "outputId": "cc17a29e-3164-4f20-931f-d383a19dcf20"
   },
   "outputs": [
    {
     "name": "stdout",
     "output_type": "stream",
     "text": [
      "   Pregnancies  Glucose  BloodPressure  Insulin   BMI  \\\n",
      "0            6      148             72    250.0  33.6   \n",
      "1            1       85             66    300.0  26.6   \n",
      "2            8      183             64      NaN  23.3   \n",
      "3            1       89             66     94.0  28.1   \n",
      "4            0      137             40    168.0  43.1   \n",
      "\n",
      "   DiabetesPedigreeFunction  Age  Outcome  New_Age  \n",
      "0                     0.627   50        1       51  \n",
      "1                     0.351   31        0       32  \n",
      "2                     0.672   32        1       33  \n",
      "3                     0.167   21        0       22  \n",
      "4                     2.288   33        1       34  \n"
     ]
    }
   ],
   "source": [
    "# Drop the column \"SkinThickness\" as it is not relevant to our analysis\n",
    "\n",
    "df3 = df2.drop(['SkinThickness'], axis=1)\n",
    "print(df3.head())"
   ]
  },
  {
   "cell_type": "code",
   "execution_count": null,
   "metadata": {
    "colab": {
     "base_uri": "https://localhost:8080/",
     "height": 237
    },
    "id": "zmRuUhPXcMgi",
    "outputId": "7066cc61-df8e-4099-eea3-fe3af4593ada"
   },
   "outputs": [
    {
     "data": {
      "text/html": [
       "\n",
       "  <div id=\"df-56e96c0b-d588-4ff9-bd6d-b7da41a18004\">\n",
       "    <div class=\"colab-df-container\">\n",
       "      <div>\n",
       "<style scoped>\n",
       "    .dataframe tbody tr th:only-of-type {\n",
       "        vertical-align: middle;\n",
       "    }\n",
       "\n",
       "    .dataframe tbody tr th {\n",
       "        vertical-align: top;\n",
       "    }\n",
       "\n",
       "    .dataframe thead th {\n",
       "        text-align: right;\n",
       "    }\n",
       "</style>\n",
       "<table border=\"1\" class=\"dataframe\">\n",
       "  <thead>\n",
       "    <tr style=\"text-align: right;\">\n",
       "      <th></th>\n",
       "      <th>Pregnancies</th>\n",
       "      <th>Glucose</th>\n",
       "      <th>BloodPressure</th>\n",
       "      <th>Insulin</th>\n",
       "      <th>BMI</th>\n",
       "      <th>DiabetesPedigreeFunction</th>\n",
       "      <th>Age</th>\n",
       "      <th>Outcome</th>\n",
       "      <th>New_Age</th>\n",
       "    </tr>\n",
       "  </thead>\n",
       "  <tbody>\n",
       "    <tr>\n",
       "      <th>0</th>\n",
       "      <td>6</td>\n",
       "      <td>148</td>\n",
       "      <td>72</td>\n",
       "      <td>250.0</td>\n",
       "      <td>33.6</td>\n",
       "      <td>0.627</td>\n",
       "      <td>50</td>\n",
       "      <td>1</td>\n",
       "      <td>51</td>\n",
       "    </tr>\n",
       "    <tr>\n",
       "      <th>8</th>\n",
       "      <td>2</td>\n",
       "      <td>197</td>\n",
       "      <td>70</td>\n",
       "      <td>543.0</td>\n",
       "      <td>30.5</td>\n",
       "      <td>0.158</td>\n",
       "      <td>53</td>\n",
       "      <td>1</td>\n",
       "      <td>54</td>\n",
       "    </tr>\n",
       "    <tr>\n",
       "      <th>9</th>\n",
       "      <td>8</td>\n",
       "      <td>125</td>\n",
       "      <td>96</td>\n",
       "      <td>0.0</td>\n",
       "      <td>0.0</td>\n",
       "      <td>0.232</td>\n",
       "      <td>54</td>\n",
       "      <td>1</td>\n",
       "      <td>55</td>\n",
       "    </tr>\n",
       "    <tr>\n",
       "      <th>12</th>\n",
       "      <td>10</td>\n",
       "      <td>139</td>\n",
       "      <td>80</td>\n",
       "      <td>0.0</td>\n",
       "      <td>27.1</td>\n",
       "      <td>1.441</td>\n",
       "      <td>57</td>\n",
       "      <td>0</td>\n",
       "      <td>58</td>\n",
       "    </tr>\n",
       "    <tr>\n",
       "      <th>13</th>\n",
       "      <td>1</td>\n",
       "      <td>189</td>\n",
       "      <td>60</td>\n",
       "      <td>846.0</td>\n",
       "      <td>30.1</td>\n",
       "      <td>0.398</td>\n",
       "      <td>59</td>\n",
       "      <td>1</td>\n",
       "      <td>60</td>\n",
       "    </tr>\n",
       "    <tr>\n",
       "      <th>14</th>\n",
       "      <td>5</td>\n",
       "      <td>166</td>\n",
       "      <td>72</td>\n",
       "      <td>175.0</td>\n",
       "      <td>25.8</td>\n",
       "      <td>0.587</td>\n",
       "      <td>51</td>\n",
       "      <td>1</td>\n",
       "      <td>52</td>\n",
       "    </tr>\n",
       "  </tbody>\n",
       "</table>\n",
       "</div>\n",
       "      <button class=\"colab-df-convert\" onclick=\"convertToInteractive('df-56e96c0b-d588-4ff9-bd6d-b7da41a18004')\"\n",
       "              title=\"Convert this dataframe to an interactive table.\"\n",
       "              style=\"display:none;\">\n",
       "        \n",
       "  <svg xmlns=\"http://www.w3.org/2000/svg\" height=\"24px\"viewBox=\"0 0 24 24\"\n",
       "       width=\"24px\">\n",
       "    <path d=\"M0 0h24v24H0V0z\" fill=\"none\"/>\n",
       "    <path d=\"M18.56 5.44l.94 2.06.94-2.06 2.06-.94-2.06-.94-.94-2.06-.94 2.06-2.06.94zm-11 1L8.5 8.5l.94-2.06 2.06-.94-2.06-.94L8.5 2.5l-.94 2.06-2.06.94zm10 10l.94 2.06.94-2.06 2.06-.94-2.06-.94-.94-2.06-.94 2.06-2.06.94z\"/><path d=\"M17.41 7.96l-1.37-1.37c-.4-.4-.92-.59-1.43-.59-.52 0-1.04.2-1.43.59L10.3 9.45l-7.72 7.72c-.78.78-.78 2.05 0 2.83L4 21.41c.39.39.9.59 1.41.59.51 0 1.02-.2 1.41-.59l7.78-7.78 2.81-2.81c.8-.78.8-2.07 0-2.86zM5.41 20L4 18.59l7.72-7.72 1.47 1.35L5.41 20z\"/>\n",
       "  </svg>\n",
       "      </button>\n",
       "      \n",
       "  <style>\n",
       "    .colab-df-container {\n",
       "      display:flex;\n",
       "      flex-wrap:wrap;\n",
       "      gap: 12px;\n",
       "    }\n",
       "\n",
       "    .colab-df-convert {\n",
       "      background-color: #E8F0FE;\n",
       "      border: none;\n",
       "      border-radius: 50%;\n",
       "      cursor: pointer;\n",
       "      display: none;\n",
       "      fill: #1967D2;\n",
       "      height: 32px;\n",
       "      padding: 0 0 0 0;\n",
       "      width: 32px;\n",
       "    }\n",
       "\n",
       "    .colab-df-convert:hover {\n",
       "      background-color: #E2EBFA;\n",
       "      box-shadow: 0px 1px 2px rgba(60, 64, 67, 0.3), 0px 1px 3px 1px rgba(60, 64, 67, 0.15);\n",
       "      fill: #174EA6;\n",
       "    }\n",
       "\n",
       "    [theme=dark] .colab-df-convert {\n",
       "      background-color: #3B4455;\n",
       "      fill: #D2E3FC;\n",
       "    }\n",
       "\n",
       "    [theme=dark] .colab-df-convert:hover {\n",
       "      background-color: #434B5C;\n",
       "      box-shadow: 0px 1px 3px 1px rgba(0, 0, 0, 0.15);\n",
       "      filter: drop-shadow(0px 1px 2px rgba(0, 0, 0, 0.3));\n",
       "      fill: #FFFFFF;\n",
       "    }\n",
       "  </style>\n",
       "\n",
       "      <script>\n",
       "        const buttonEl =\n",
       "          document.querySelector('#df-56e96c0b-d588-4ff9-bd6d-b7da41a18004 button.colab-df-convert');\n",
       "        buttonEl.style.display =\n",
       "          google.colab.kernel.accessAllowed ? 'block' : 'none';\n",
       "\n",
       "        async function convertToInteractive(key) {\n",
       "          const element = document.querySelector('#df-56e96c0b-d588-4ff9-bd6d-b7da41a18004');\n",
       "          const dataTable =\n",
       "            await google.colab.kernel.invokeFunction('convertToInteractive',\n",
       "                                                     [key], {});\n",
       "          if (!dataTable) return;\n",
       "\n",
       "          const docLinkHtml = 'Like what you see? Visit the ' +\n",
       "            '<a target=\"_blank\" href=https://colab.research.google.com/notebooks/data_table.ipynb>data table notebook</a>'\n",
       "            + ' to learn more about interactive tables.';\n",
       "          element.innerHTML = '';\n",
       "          dataTable['output_type'] = 'display_data';\n",
       "          await google.colab.output.renderOutput(dataTable, element);\n",
       "          const docLink = document.createElement('div');\n",
       "          docLink.innerHTML = docLinkHtml;\n",
       "          element.appendChild(docLink);\n",
       "        }\n",
       "      </script>\n",
       "    </div>\n",
       "  </div>\n",
       "  "
      ],
      "text/plain": [
       "    Pregnancies  Glucose  BloodPressure  Insulin   BMI  \\\n",
       "0             6      148             72    250.0  33.6   \n",
       "8             2      197             70    543.0  30.5   \n",
       "9             8      125             96      0.0   0.0   \n",
       "12           10      139             80      0.0  27.1   \n",
       "13            1      189             60    846.0  30.1   \n",
       "14            5      166             72    175.0  25.8   \n",
       "\n",
       "    DiabetesPedigreeFunction  Age  Outcome  New_Age  \n",
       "0                      0.627   50        1       51  \n",
       "8                      0.158   53        1       54  \n",
       "9                      0.232   54        1       55  \n",
       "12                     1.441   57        0       58  \n",
       "13                     0.398   59        1       60  \n",
       "14                     0.587   51        1       52  "
      ]
     },
     "execution_count": 15,
     "metadata": {},
     "output_type": "execute_result"
    }
   ],
   "source": [
    "# Filter rows where patient's age is greater than or equal to 50 since such patients have high possibility of having diabetes. \n",
    "# Use column New_Age\n",
    "\n",
    "df3[df3['New_Age']>= 50]"
   ]
  },
  {
   "cell_type": "code",
   "execution_count": null,
   "metadata": {
    "colab": {
     "base_uri": "https://localhost:8080/",
     "height": 206
    },
    "id": "NtsBfiAjcMgi",
    "outputId": "e42bb720-898e-4e8f-c955-d7a5943f07db"
   },
   "outputs": [
    {
     "data": {
      "text/html": [
       "\n",
       "  <div id=\"df-4fc343f7-08d2-49aa-966c-00b11e5da507\">\n",
       "    <div class=\"colab-df-container\">\n",
       "      <div>\n",
       "<style scoped>\n",
       "    .dataframe tbody tr th:only-of-type {\n",
       "        vertical-align: middle;\n",
       "    }\n",
       "\n",
       "    .dataframe tbody tr th {\n",
       "        vertical-align: top;\n",
       "    }\n",
       "\n",
       "    .dataframe thead th {\n",
       "        text-align: right;\n",
       "    }\n",
       "</style>\n",
       "<table border=\"1\" class=\"dataframe\">\n",
       "  <thead>\n",
       "    <tr style=\"text-align: right;\">\n",
       "      <th></th>\n",
       "      <th>Pregnancies</th>\n",
       "      <th>Glucose</th>\n",
       "      <th>BloodPressure</th>\n",
       "      <th>Insulin</th>\n",
       "      <th>BMI</th>\n",
       "      <th>DiabetesPedigreeFunction</th>\n",
       "      <th>Age</th>\n",
       "      <th>Outcome</th>\n",
       "      <th>New_Age</th>\n",
       "    </tr>\n",
       "  </thead>\n",
       "  <tbody>\n",
       "    <tr>\n",
       "      <th>0</th>\n",
       "      <td>6</td>\n",
       "      <td>148</td>\n",
       "      <td>72</td>\n",
       "      <td>250.0</td>\n",
       "      <td>33.6</td>\n",
       "      <td>0.627</td>\n",
       "      <td>50</td>\n",
       "      <td>1</td>\n",
       "      <td>51</td>\n",
       "    </tr>\n",
       "    <tr>\n",
       "      <th>8</th>\n",
       "      <td>2</td>\n",
       "      <td>197</td>\n",
       "      <td>70</td>\n",
       "      <td>543.0</td>\n",
       "      <td>30.5</td>\n",
       "      <td>0.158</td>\n",
       "      <td>53</td>\n",
       "      <td>1</td>\n",
       "      <td>54</td>\n",
       "    </tr>\n",
       "    <tr>\n",
       "      <th>9</th>\n",
       "      <td>8</td>\n",
       "      <td>125</td>\n",
       "      <td>96</td>\n",
       "      <td>0.0</td>\n",
       "      <td>0.0</td>\n",
       "      <td>0.232</td>\n",
       "      <td>54</td>\n",
       "      <td>1</td>\n",
       "      <td>55</td>\n",
       "    </tr>\n",
       "    <tr>\n",
       "      <th>13</th>\n",
       "      <td>1</td>\n",
       "      <td>189</td>\n",
       "      <td>60</td>\n",
       "      <td>846.0</td>\n",
       "      <td>30.1</td>\n",
       "      <td>0.398</td>\n",
       "      <td>59</td>\n",
       "      <td>1</td>\n",
       "      <td>60</td>\n",
       "    </tr>\n",
       "    <tr>\n",
       "      <th>14</th>\n",
       "      <td>5</td>\n",
       "      <td>166</td>\n",
       "      <td>72</td>\n",
       "      <td>175.0</td>\n",
       "      <td>25.8</td>\n",
       "      <td>0.587</td>\n",
       "      <td>51</td>\n",
       "      <td>1</td>\n",
       "      <td>52</td>\n",
       "    </tr>\n",
       "  </tbody>\n",
       "</table>\n",
       "</div>\n",
       "      <button class=\"colab-df-convert\" onclick=\"convertToInteractive('df-4fc343f7-08d2-49aa-966c-00b11e5da507')\"\n",
       "              title=\"Convert this dataframe to an interactive table.\"\n",
       "              style=\"display:none;\">\n",
       "        \n",
       "  <svg xmlns=\"http://www.w3.org/2000/svg\" height=\"24px\"viewBox=\"0 0 24 24\"\n",
       "       width=\"24px\">\n",
       "    <path d=\"M0 0h24v24H0V0z\" fill=\"none\"/>\n",
       "    <path d=\"M18.56 5.44l.94 2.06.94-2.06 2.06-.94-2.06-.94-.94-2.06-.94 2.06-2.06.94zm-11 1L8.5 8.5l.94-2.06 2.06-.94-2.06-.94L8.5 2.5l-.94 2.06-2.06.94zm10 10l.94 2.06.94-2.06 2.06-.94-2.06-.94-.94-2.06-.94 2.06-2.06.94z\"/><path d=\"M17.41 7.96l-1.37-1.37c-.4-.4-.92-.59-1.43-.59-.52 0-1.04.2-1.43.59L10.3 9.45l-7.72 7.72c-.78.78-.78 2.05 0 2.83L4 21.41c.39.39.9.59 1.41.59.51 0 1.02-.2 1.41-.59l7.78-7.78 2.81-2.81c.8-.78.8-2.07 0-2.86zM5.41 20L4 18.59l7.72-7.72 1.47 1.35L5.41 20z\"/>\n",
       "  </svg>\n",
       "      </button>\n",
       "      \n",
       "  <style>\n",
       "    .colab-df-container {\n",
       "      display:flex;\n",
       "      flex-wrap:wrap;\n",
       "      gap: 12px;\n",
       "    }\n",
       "\n",
       "    .colab-df-convert {\n",
       "      background-color: #E8F0FE;\n",
       "      border: none;\n",
       "      border-radius: 50%;\n",
       "      cursor: pointer;\n",
       "      display: none;\n",
       "      fill: #1967D2;\n",
       "      height: 32px;\n",
       "      padding: 0 0 0 0;\n",
       "      width: 32px;\n",
       "    }\n",
       "\n",
       "    .colab-df-convert:hover {\n",
       "      background-color: #E2EBFA;\n",
       "      box-shadow: 0px 1px 2px rgba(60, 64, 67, 0.3), 0px 1px 3px 1px rgba(60, 64, 67, 0.15);\n",
       "      fill: #174EA6;\n",
       "    }\n",
       "\n",
       "    [theme=dark] .colab-df-convert {\n",
       "      background-color: #3B4455;\n",
       "      fill: #D2E3FC;\n",
       "    }\n",
       "\n",
       "    [theme=dark] .colab-df-convert:hover {\n",
       "      background-color: #434B5C;\n",
       "      box-shadow: 0px 1px 3px 1px rgba(0, 0, 0, 0.15);\n",
       "      filter: drop-shadow(0px 1px 2px rgba(0, 0, 0, 0.3));\n",
       "      fill: #FFFFFF;\n",
       "    }\n",
       "  </style>\n",
       "\n",
       "      <script>\n",
       "        const buttonEl =\n",
       "          document.querySelector('#df-4fc343f7-08d2-49aa-966c-00b11e5da507 button.colab-df-convert');\n",
       "        buttonEl.style.display =\n",
       "          google.colab.kernel.accessAllowed ? 'block' : 'none';\n",
       "\n",
       "        async function convertToInteractive(key) {\n",
       "          const element = document.querySelector('#df-4fc343f7-08d2-49aa-966c-00b11e5da507');\n",
       "          const dataTable =\n",
       "            await google.colab.kernel.invokeFunction('convertToInteractive',\n",
       "                                                     [key], {});\n",
       "          if (!dataTable) return;\n",
       "\n",
       "          const docLinkHtml = 'Like what you see? Visit the ' +\n",
       "            '<a target=\"_blank\" href=https://colab.research.google.com/notebooks/data_table.ipynb>data table notebook</a>'\n",
       "            + ' to learn more about interactive tables.';\n",
       "          element.innerHTML = '';\n",
       "          dataTable['output_type'] = 'display_data';\n",
       "          await google.colab.output.renderOutput(dataTable, element);\n",
       "          const docLink = document.createElement('div');\n",
       "          docLink.innerHTML = docLinkHtml;\n",
       "          element.appendChild(docLink);\n",
       "        }\n",
       "      </script>\n",
       "    </div>\n",
       "  </div>\n",
       "  "
      ],
      "text/plain": [
       "    Pregnancies  Glucose  BloodPressure  Insulin   BMI  \\\n",
       "0             6      148             72    250.0  33.6   \n",
       "8             2      197             70    543.0  30.5   \n",
       "9             8      125             96      0.0   0.0   \n",
       "13            1      189             60    846.0  30.1   \n",
       "14            5      166             72    175.0  25.8   \n",
       "\n",
       "    DiabetesPedigreeFunction  Age  Outcome  New_Age  \n",
       "0                      0.627   50        1       51  \n",
       "8                      0.158   53        1       54  \n",
       "9                      0.232   54        1       55  \n",
       "13                     0.398   59        1       60  \n",
       "14                     0.587   51        1       52  "
      ]
     },
     "execution_count": 16,
     "metadata": {},
     "output_type": "execute_result"
    }
   ],
   "source": [
    "# Incorporate another condition for filtering rows as Outcome is '1'\n",
    "\n",
    "df4 = df3[(df3['New_Age']>= 50) & (df3['Outcome'] == 1)]\n",
    "df4"
   ]
  },
  {
   "cell_type": "code",
   "execution_count": null,
   "metadata": {
    "colab": {
     "base_uri": "https://localhost:8080/",
     "height": 206
    },
    "id": "klDE3TRvcMgj",
    "outputId": "115423de-9d50-4c5e-b3d1-47fe13202c5d"
   },
   "outputs": [
    {
     "data": {
      "text/html": [
       "\n",
       "  <div id=\"df-0ec83f17-bf7f-40d7-88d7-81fe8115ba18\">\n",
       "    <div class=\"colab-df-container\">\n",
       "      <div>\n",
       "<style scoped>\n",
       "    .dataframe tbody tr th:only-of-type {\n",
       "        vertical-align: middle;\n",
       "    }\n",
       "\n",
       "    .dataframe tbody tr th {\n",
       "        vertical-align: top;\n",
       "    }\n",
       "\n",
       "    .dataframe thead th {\n",
       "        text-align: right;\n",
       "    }\n",
       "</style>\n",
       "<table border=\"1\" class=\"dataframe\">\n",
       "  <thead>\n",
       "    <tr style=\"text-align: right;\">\n",
       "      <th></th>\n",
       "      <th>Pregnancies</th>\n",
       "      <th>Glucose</th>\n",
       "      <th>BloodPressure</th>\n",
       "      <th>Insulin</th>\n",
       "      <th>BMI</th>\n",
       "      <th>DiabetesPedigreeFunction</th>\n",
       "      <th>Age</th>\n",
       "      <th>Outcome</th>\n",
       "      <th>New_Age</th>\n",
       "    </tr>\n",
       "  </thead>\n",
       "  <tbody>\n",
       "    <tr>\n",
       "      <th>8</th>\n",
       "      <td>2</td>\n",
       "      <td>197</td>\n",
       "      <td>70</td>\n",
       "      <td>543.0</td>\n",
       "      <td>30.5</td>\n",
       "      <td>0.158</td>\n",
       "      <td>53</td>\n",
       "      <td>1</td>\n",
       "      <td>54</td>\n",
       "    </tr>\n",
       "    <tr>\n",
       "      <th>13</th>\n",
       "      <td>1</td>\n",
       "      <td>189</td>\n",
       "      <td>60</td>\n",
       "      <td>846.0</td>\n",
       "      <td>30.1</td>\n",
       "      <td>0.398</td>\n",
       "      <td>59</td>\n",
       "      <td>1</td>\n",
       "      <td>60</td>\n",
       "    </tr>\n",
       "    <tr>\n",
       "      <th>14</th>\n",
       "      <td>5</td>\n",
       "      <td>166</td>\n",
       "      <td>72</td>\n",
       "      <td>175.0</td>\n",
       "      <td>25.8</td>\n",
       "      <td>0.587</td>\n",
       "      <td>51</td>\n",
       "      <td>1</td>\n",
       "      <td>52</td>\n",
       "    </tr>\n",
       "    <tr>\n",
       "      <th>0</th>\n",
       "      <td>6</td>\n",
       "      <td>148</td>\n",
       "      <td>72</td>\n",
       "      <td>250.0</td>\n",
       "      <td>33.6</td>\n",
       "      <td>0.627</td>\n",
       "      <td>50</td>\n",
       "      <td>1</td>\n",
       "      <td>51</td>\n",
       "    </tr>\n",
       "    <tr>\n",
       "      <th>9</th>\n",
       "      <td>8</td>\n",
       "      <td>125</td>\n",
       "      <td>96</td>\n",
       "      <td>0.0</td>\n",
       "      <td>0.0</td>\n",
       "      <td>0.232</td>\n",
       "      <td>54</td>\n",
       "      <td>1</td>\n",
       "      <td>55</td>\n",
       "    </tr>\n",
       "  </tbody>\n",
       "</table>\n",
       "</div>\n",
       "      <button class=\"colab-df-convert\" onclick=\"convertToInteractive('df-0ec83f17-bf7f-40d7-88d7-81fe8115ba18')\"\n",
       "              title=\"Convert this dataframe to an interactive table.\"\n",
       "              style=\"display:none;\">\n",
       "        \n",
       "  <svg xmlns=\"http://www.w3.org/2000/svg\" height=\"24px\"viewBox=\"0 0 24 24\"\n",
       "       width=\"24px\">\n",
       "    <path d=\"M0 0h24v24H0V0z\" fill=\"none\"/>\n",
       "    <path d=\"M18.56 5.44l.94 2.06.94-2.06 2.06-.94-2.06-.94-.94-2.06-.94 2.06-2.06.94zm-11 1L8.5 8.5l.94-2.06 2.06-.94-2.06-.94L8.5 2.5l-.94 2.06-2.06.94zm10 10l.94 2.06.94-2.06 2.06-.94-2.06-.94-.94-2.06-.94 2.06-2.06.94z\"/><path d=\"M17.41 7.96l-1.37-1.37c-.4-.4-.92-.59-1.43-.59-.52 0-1.04.2-1.43.59L10.3 9.45l-7.72 7.72c-.78.78-.78 2.05 0 2.83L4 21.41c.39.39.9.59 1.41.59.51 0 1.02-.2 1.41-.59l7.78-7.78 2.81-2.81c.8-.78.8-2.07 0-2.86zM5.41 20L4 18.59l7.72-7.72 1.47 1.35L5.41 20z\"/>\n",
       "  </svg>\n",
       "      </button>\n",
       "      \n",
       "  <style>\n",
       "    .colab-df-container {\n",
       "      display:flex;\n",
       "      flex-wrap:wrap;\n",
       "      gap: 12px;\n",
       "    }\n",
       "\n",
       "    .colab-df-convert {\n",
       "      background-color: #E8F0FE;\n",
       "      border: none;\n",
       "      border-radius: 50%;\n",
       "      cursor: pointer;\n",
       "      display: none;\n",
       "      fill: #1967D2;\n",
       "      height: 32px;\n",
       "      padding: 0 0 0 0;\n",
       "      width: 32px;\n",
       "    }\n",
       "\n",
       "    .colab-df-convert:hover {\n",
       "      background-color: #E2EBFA;\n",
       "      box-shadow: 0px 1px 2px rgba(60, 64, 67, 0.3), 0px 1px 3px 1px rgba(60, 64, 67, 0.15);\n",
       "      fill: #174EA6;\n",
       "    }\n",
       "\n",
       "    [theme=dark] .colab-df-convert {\n",
       "      background-color: #3B4455;\n",
       "      fill: #D2E3FC;\n",
       "    }\n",
       "\n",
       "    [theme=dark] .colab-df-convert:hover {\n",
       "      background-color: #434B5C;\n",
       "      box-shadow: 0px 1px 3px 1px rgba(0, 0, 0, 0.15);\n",
       "      filter: drop-shadow(0px 1px 2px rgba(0, 0, 0, 0.3));\n",
       "      fill: #FFFFFF;\n",
       "    }\n",
       "  </style>\n",
       "\n",
       "      <script>\n",
       "        const buttonEl =\n",
       "          document.querySelector('#df-0ec83f17-bf7f-40d7-88d7-81fe8115ba18 button.colab-df-convert');\n",
       "        buttonEl.style.display =\n",
       "          google.colab.kernel.accessAllowed ? 'block' : 'none';\n",
       "\n",
       "        async function convertToInteractive(key) {\n",
       "          const element = document.querySelector('#df-0ec83f17-bf7f-40d7-88d7-81fe8115ba18');\n",
       "          const dataTable =\n",
       "            await google.colab.kernel.invokeFunction('convertToInteractive',\n",
       "                                                     [key], {});\n",
       "          if (!dataTable) return;\n",
       "\n",
       "          const docLinkHtml = 'Like what you see? Visit the ' +\n",
       "            '<a target=\"_blank\" href=https://colab.research.google.com/notebooks/data_table.ipynb>data table notebook</a>'\n",
       "            + ' to learn more about interactive tables.';\n",
       "          element.innerHTML = '';\n",
       "          dataTable['output_type'] = 'display_data';\n",
       "          await google.colab.output.renderOutput(dataTable, element);\n",
       "          const docLink = document.createElement('div');\n",
       "          docLink.innerHTML = docLinkHtml;\n",
       "          element.appendChild(docLink);\n",
       "        }\n",
       "      </script>\n",
       "    </div>\n",
       "  </div>\n",
       "  "
      ],
      "text/plain": [
       "    Pregnancies  Glucose  BloodPressure  Insulin   BMI  \\\n",
       "8             2      197             70    543.0  30.5   \n",
       "13            1      189             60    846.0  30.1   \n",
       "14            5      166             72    175.0  25.8   \n",
       "0             6      148             72    250.0  33.6   \n",
       "9             8      125             96      0.0   0.0   \n",
       "\n",
       "    DiabetesPedigreeFunction  Age  Outcome  New_Age  \n",
       "8                      0.158   53        1       54  \n",
       "13                     0.398   59        1       60  \n",
       "14                     0.587   51        1       52  \n",
       "0                      0.627   50        1       51  \n",
       "9                      0.232   54        1       55  "
      ]
     },
     "execution_count": 17,
     "metadata": {},
     "output_type": "execute_result"
    }
   ],
   "source": [
    "# Sort values in the DataFrame df4 by \"Glucose\" in descending order\n",
    "\n",
    "df4.sort_values(by=['Glucose'], ascending = False)"
   ]
  },
  {
   "cell_type": "markdown",
   "metadata": {
    "id": "crrl2ynEcMgj"
   },
   "source": [
    "##### Conclusion: This code demonstrates how to create DataFrames in pandas and use various functionality of DataFrames."
   ]
  }
 ],
 "metadata": {
  "colab": {
   "provenance": []
  },
  "kernelspec": {
   "display_name": "Python 3",
   "language": "python",
   "name": "python3"
  },
  "language_info": {
   "codemirror_mode": {
    "name": "ipython",
    "version": 3
   },
   "file_extension": ".py",
   "mimetype": "text/x-python",
   "name": "python",
   "nbconvert_exporter": "python",
   "pygments_lexer": "ipython3",
   "version": "3.7.3"
  }
 },
 "nbformat": 4,
 "nbformat_minor": 0
}
