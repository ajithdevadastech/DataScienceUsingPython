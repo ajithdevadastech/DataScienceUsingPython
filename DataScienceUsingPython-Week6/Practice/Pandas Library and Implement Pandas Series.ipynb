{
 "cells": [
  {
   "cell_type": "code",
   "execution_count": 5,
   "metadata": {
    "collapsed": false
   },
   "outputs": [
    {
     "name": "stdout",
     "output_type": "stream",
     "text": [
      "Requirement already satisfied (use --upgrade to upgrade): pandas in /Users/ajithdevadas/anaconda/lib/python2.7/site-packages\n",
      "Requirement already satisfied (use --upgrade to upgrade): python-dateutil in /Users/ajithdevadas/anaconda/lib/python2.7/site-packages (from pandas)\n",
      "Requirement already satisfied (use --upgrade to upgrade): pytz>=2011k in /Users/ajithdevadas/anaconda/lib/python2.7/site-packages (from pandas)\n",
      "Requirement already satisfied (use --upgrade to upgrade): numpy>=1.7.0 in /Users/ajithdevadas/anaconda/lib/python2.7/site-packages (from pandas)\n",
      "Requirement already satisfied (use --upgrade to upgrade): six>=1.5 in /Users/ajithdevadas/anaconda/lib/python2.7/site-packages (from python-dateutil->pandas)\n",
      "\u001b[33mYou are using pip version 7.1.2, however version 23.2.1 is available.\n",
      "You should consider upgrading via the 'pip install --upgrade pip' command.\u001b[0m\n"
     ]
    }
   ],
   "source": [
    "!pip install pandas"
   ]
  },
  {
   "cell_type": "code",
   "execution_count": 6,
   "metadata": {
    "collapsed": false
   },
   "outputs": [
    {
     "name": "stdout",
     "output_type": "stream",
     "text": [
      "Collecting pandas\n",
      "  Using cached pandas-2.0.3-cp39-cp39-macosx_10_9_x86_64.whl (11.8 MB)\n",
      "Requirement already satisfied: python-dateutil>=2.8.2 in /Library/Frameworks/Python.framework/Versions/3.9/lib/python3.9/site-packages (from pandas) (2.8.2)\n",
      "Requirement already satisfied: numpy>=1.20.3 in /Users/ajithdevadas/Library/Python/3.9/lib/python/site-packages (from pandas) (1.24.3)\n",
      "Requirement already satisfied: pytz>=2020.1 in /Library/Frameworks/Python.framework/Versions/3.9/lib/python3.9/site-packages (from pandas) (2022.7.1)\n",
      "Collecting tzdata>=2022.1\n",
      "  Using cached tzdata-2023.3-py2.py3-none-any.whl (341 kB)\n",
      "Requirement already satisfied: six>=1.5 in /Library/Frameworks/Python.framework/Versions/3.9/lib/python3.9/site-packages (from python-dateutil>=2.8.2->pandas) (1.16.0)\n",
      "Installing collected packages: tzdata, pandas\n",
      "Successfully installed pandas-2.0.3 tzdata-2023.3\n",
      "\u001b[33mWARNING: You are using pip version 21.2.3; however, version 23.2.1 is available.\n",
      "You should consider upgrading via the '/Library/Frameworks/Python.framework/Versions/3.9/bin/python3.9 -m pip install --upgrade pip' command.\u001b[0m\n"
     ]
    }
   ],
   "source": [
    "!pip3 install pandas"
   ]
  },
  {
   "cell_type": "code",
   "execution_count": 7,
   "metadata": {
    "collapsed": false
   },
   "outputs": [
    {
     "name": "stdout",
     "output_type": "stream",
     "text": [
      "0    13\n",
      "1    -5\n",
      "2     7\n",
      "3    19\n",
      "dtype: int64\n"
     ]
    }
   ],
   "source": [
    "# Import the required libraries\n",
    "\n",
    "import pandas as pd\n",
    "import numpy as np\n",
    "\n",
    "# 1.1 Create a pandas Series from a list  x = [13, -5, 7, 19]\n",
    "x = [13, -5, 7, 19]\n",
    "s1 = pd.Series(x)\n",
    "\n",
    "# Print the series and observe the default indices created\n",
    "print(s1)"
   ]
  },
  {
   "cell_type": "code",
   "execution_count": 8,
   "metadata": {
    "collapsed": true
   },
   "outputs": [],
   "source": [
    "# Notice that the data type is automatically set for the series as 'int64'"
   ]
  },
  {
   "cell_type": "code",
   "execution_count": 9,
   "metadata": {
    "collapsed": false
   },
   "outputs": [
    {
     "name": "stdout",
     "output_type": "stream",
     "text": [
      "a    23.0\n",
      "b     3.0\n",
      "c     7.0\n",
      "d    11.0\n",
      "dtype: float64\n"
     ]
    }
   ],
   "source": [
    "# 1.2 Create a series using a numpy array\n",
    "\n",
    "y = np.array([23, 3., 7, 11])\n",
    "s2 = pd.Series(y, index=['a', 'b', 'c', 'd'])\n",
    "\n",
    "print(s2)"
   ]
  },
  {
   "cell_type": "code",
   "execution_count": 10,
   "metadata": {
    "collapsed": false
   },
   "outputs": [
    {
     "data": {
      "text/plain": [
       "dtype('float64')"
      ]
     },
     "execution_count": 10,
     "metadata": {},
     "output_type": "execute_result"
    }
   ],
   "source": [
    "# Note that indices are specifies at the time of creation.\n",
    "\n",
    "# Check the data type of the series\n",
    "s2.dtype"
   ]
  },
  {
   "cell_type": "code",
   "execution_count": 11,
   "metadata": {
    "collapsed": true
   },
   "outputs": [],
   "source": [
    "# The data type is set as float since one of the values is a float"
   ]
  },
  {
   "cell_type": "code",
   "execution_count": 12,
   "metadata": {
    "collapsed": false
   },
   "outputs": [
    {
     "name": "stdout",
     "output_type": "stream",
     "text": [
      "Values: [23.  3.  7. 11.]\n",
      "Index: Index(['a', 'b', 'c', 'd'], dtype='object')\n"
     ]
    }
   ],
   "source": [
    "# 1.3 Get the values and index of the series\n",
    "\n",
    "print(\"Values:\", s2.values)\n",
    "\n",
    "print(\"Index:\", s2.index)"
   ]
  },
  {
   "cell_type": "code",
   "execution_count": 13,
   "metadata": {
    "collapsed": false
   },
   "outputs": [
    {
     "name": "stdout",
     "output_type": "stream",
     "text": [
      "Third element:  7.0\n",
      "First two elements:\n",
      "\n",
      "a    23.0\n",
      "b     3.0\n",
      "dtype: float64\n",
      "Element having index 'd':\n",
      "11.0\n"
     ]
    }
   ],
   "source": [
    "# 1.4 Access the elements of Series\n",
    "\n",
    "print(\"Third element: \", s2[2])\n",
    "\n",
    "print(\"First two elements:\\n\")\n",
    "print(s2[0:2])\n",
    "\n",
    "print(\"Element having index 'd':\")\n",
    "print(s2['d'])"
   ]
  },
  {
   "cell_type": "code",
   "execution_count": 14,
   "metadata": {
    "collapsed": false
   },
   "outputs": [
    {
     "name": "stdout",
     "output_type": "stream",
     "text": [
      "a    10.0\n",
      "b    11.0\n",
      "c     7.0\n",
      "d    11.0\n",
      "dtype: float64\n"
     ]
    }
   ],
   "source": [
    "# 1.5 Assign new values to the elements\n",
    "\n",
    "s2['a'] = 10\n",
    "\n",
    "s2[1] = 11\n",
    "print(s2)"
   ]
  },
  {
   "cell_type": "code",
   "execution_count": null,
   "metadata": {
    "collapsed": true
   },
   "outputs": [],
   "source": [
    "Question 2:\n",
    "From the raw data below create a pandas Series\n",
    "\n",
    "'Amit', 'Bob', 'Kate', 'A', 'b', np.nan, 'Car', 'dog', 'cat'\n",
    "\n",
    "1) Print all elements in lower case\n",
    "2) Print all the elements in upper case    \n",
    "3) Print the length of all the elements"
   ]
  },
  {
   "cell_type": "code",
   "execution_count": 15,
   "metadata": {
    "collapsed": false
   },
   "outputs": [
    {
     "name": "stdout",
     "output_type": "stream",
     "text": [
      "0    amit\n",
      "1     bob\n",
      "2    kate\n",
      "3       a\n",
      "4       b\n",
      "5     NaN\n",
      "6     car\n",
      "7     dog\n",
      "8     cat\n",
      "dtype: object\n"
     ]
    }
   ],
   "source": [
    "# 2.1\n",
    "s = pd.Series(['Amit', 'Bob', 'Kate', 'A', 'b', np.nan, 'Car', 'dog', 'cat'])\n",
    "print(s.str.lower())"
   ]
  },
  {
   "cell_type": "code",
   "execution_count": 16,
   "metadata": {
    "collapsed": false
   },
   "outputs": [
    {
     "name": "stdout",
     "output_type": "stream",
     "text": [
      "0    AMIT\n",
      "1     BOB\n",
      "2    KATE\n",
      "3       A\n",
      "4       B\n",
      "5     NaN\n",
      "6     CAR\n",
      "7     DOG\n",
      "8     CAT\n",
      "dtype: object\n"
     ]
    }
   ],
   "source": [
    "# 2.2\n",
    "print(s.str.upper())"
   ]
  },
  {
   "cell_type": "code",
   "execution_count": 17,
   "metadata": {
    "collapsed": false
   },
   "outputs": [
    {
     "name": "stdout",
     "output_type": "stream",
     "text": [
      "9\n"
     ]
    }
   ],
   "source": [
    "print(len(s))"
   ]
  },
  {
   "cell_type": "code",
   "execution_count": 18,
   "metadata": {
    "collapsed": false
   },
   "outputs": [
    {
     "name": "stdout",
     "output_type": "stream",
     "text": [
      "0    4.0\n",
      "1    3.0\n",
      "2    4.0\n",
      "3    1.0\n",
      "4    1.0\n",
      "5    NaN\n",
      "6    3.0\n",
      "7    3.0\n",
      "8    3.0\n",
      "dtype: float64\n"
     ]
    }
   ],
   "source": [
    "print(s.str.len())"
   ]
  },
  {
   "cell_type": "code",
   "execution_count": null,
   "metadata": {
    "collapsed": true
   },
   "outputs": [],
   "source": [
    "Question 3:¶\n",
    "From the raw data below create a pandas Series\n",
    "\n",
    "' Arya', 'John ', ' jack ', 'Sam'\n",
    "\n",
    "1) Print all elements after stripping spaces from the left and right\n",
    "2) Print all the elements after removing spaces from the left only\n",
    "3) Print all the elements after removing spaces from the right only"
   ]
  },
  {
   "cell_type": "code",
   "execution_count": 23,
   "metadata": {
    "collapsed": false
   },
   "outputs": [
    {
     "name": "stdout",
     "output_type": "stream",
     "text": [
      "0    Arya\n",
      "1    John\n",
      "2    jack\n",
      "3     Sam\n",
      "dtype: object\n"
     ]
    }
   ],
   "source": [
    "s = pd.Series([' Arya', 'John ', ' jack ', 'Sam'])\n",
    "print(s.str.strip())"
   ]
  },
  {
   "cell_type": "code",
   "execution_count": 24,
   "metadata": {
    "collapsed": false
   },
   "outputs": [
    {
     "name": "stdout",
     "output_type": "stream",
     "text": [
      "0     Arya\n",
      "1    John \n",
      "2    jack \n",
      "3      Sam\n",
      "dtype: object\n"
     ]
    }
   ],
   "source": [
    "print(s.str.lstrip())"
   ]
  },
  {
   "cell_type": "code",
   "execution_count": 25,
   "metadata": {
    "collapsed": false
   },
   "outputs": [
    {
     "name": "stdout",
     "output_type": "stream",
     "text": [
      "0     Arya\n",
      "1     John\n",
      "2     jack\n",
      "3      Sam\n",
      "dtype: object\n"
     ]
    }
   ],
   "source": [
    "print(s.str.rstrip())"
   ]
  }
 ],
 "metadata": {
  "kernelspec": {
   "display_name": "Python 3 (ipykernel)",
   "language": "python",
   "name": "python3"
  },
  "language_info": {
   "codemirror_mode": {
    "name": "ipython",
    "version": 3
   },
   "file_extension": ".py",
   "mimetype": "text/x-python",
   "name": "python",
   "nbconvert_exporter": "python",
   "pygments_lexer": "ipython3",
   "version": "3.9.7"
  }
 },
 "nbformat": 4,
 "nbformat_minor": 0
}
