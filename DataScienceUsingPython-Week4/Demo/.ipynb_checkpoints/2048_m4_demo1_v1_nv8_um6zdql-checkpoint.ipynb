{
 "cells": [
  {
   "cell_type": "markdown",
   "metadata": {
    "id": "IiRhiSt2V5-P"
   },
   "source": [
    "<h2><u>Data Science Using Python</u></h2>\n",
    "\n",
    "# Module 4: Control Flow and Functions\n",
    "\n",
    "## Demo 1:  Guessing Game Using Conditional Statements"
   ]
  },
  {
   "cell_type": "markdown",
   "metadata": {
    "id": "FHm8jUw2V5-U"
   },
   "source": [
    "In this demo, you will be shown how to implement conditional statements."
   ]
  },
  {
   "cell_type": "markdown",
   "metadata": {
    "id": "OZ5iWhkWV5-U"
   },
   "source": [
    "### Step 1: Import the required libraries"
   ]
  },
  {
   "cell_type": "code",
   "execution_count": 1,
   "metadata": {
    "id": "CJjOdlzyV5-V"
   },
   "outputs": [],
   "source": [
    "import random"
   ]
  },
  {
   "cell_type": "markdown",
   "metadata": {
    "id": "p5nO0sTKV5-W"
   },
   "source": [
    "### Step 2: Initialize the variables"
   ]
  },
  {
   "cell_type": "code",
   "execution_count": 2,
   "metadata": {
    "id": "CM1tfw8aV5-W"
   },
   "outputs": [],
   "source": [
    "number = random.randint(1,9)\n",
    "guess = 0\n",
    "count = 0"
   ]
  },
  {
   "cell_type": "markdown",
   "metadata": {
    "id": "a1ZomvRYV5-X"
   },
   "source": [
    "### Step 3: Implement the logic of the guessing game in which user is going to guess the number between 1 to 9 and system will tell them whether they have guessed too low, too high, or exactly right."
   ]
  },
  {
   "cell_type": "code",
   "execution_count": 3,
   "metadata": {
    "colab": {
     "base_uri": "https://localhost:8080/"
    },
    "id": "j9qoJr3OV5-X",
    "outputId": "fc84268a-cd4b-425a-e301-f89fb1846ab4"
   },
   "outputs": [
    {
     "name": "stdout",
     "output_type": "stream",
     "text": [
      "Welcome To The Guessing Game\n",
      "Guess the number between 1 to 9:3\n",
      "Too high!\n",
      "Guess the number between 1 to 9:6\n",
      "Too high!\n",
      "Guess the number between 1 to 9:5\n",
      "Too high!\n",
      "Guess the number between 1 to 9:3\n",
      "Too high!\n",
      "Guess the number between 1 to 9:1\n",
      "You got it!\n",
      "And it only took you 5 tries!\n"
     ]
    }
   ],
   "source": [
    "print(\"Welcome To The Guessing Game\")\n",
    "while count!=6:\n",
    "    guess = input(\"Guess the number between 1 to 9:\")    \n",
    "    guess = int(guess)\n",
    "    count += 1    \n",
    "    if guess < number:\n",
    "            print(\"Too low!\")\n",
    "    elif guess > number:\n",
    "            print(\"Too high!\")\n",
    "    else:\n",
    "            print(\"You got it!\")\n",
    "            print(\"And it only took you\",count,\"tries!\")\n",
    "            break"
   ]
  },
  {
   "cell_type": "markdown",
   "metadata": {
    "id": "y3qJkwFiV5-Z"
   },
   "source": [
    "#### Conclusion: This code demonstrates how to use conditional statements."
   ]
  }
 ],
 "metadata": {
  "colab": {
   "provenance": []
  },
  "kernelspec": {
   "display_name": "Python 3",
   "language": "python",
   "name": "python3"
  },
  "language_info": {
   "codemirror_mode": {
    "name": "ipython",
    "version": 3
   },
   "file_extension": ".py",
   "mimetype": "text/x-python",
   "name": "python",
   "nbconvert_exporter": "python",
   "pygments_lexer": "ipython3",
   "version": "3.7.3"
  }
 },
 "nbformat": 4,
 "nbformat_minor": 0
}
