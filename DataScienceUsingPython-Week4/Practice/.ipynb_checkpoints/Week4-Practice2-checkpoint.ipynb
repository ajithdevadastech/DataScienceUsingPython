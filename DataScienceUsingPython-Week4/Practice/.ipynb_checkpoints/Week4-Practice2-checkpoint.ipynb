{
 "cells": [
  {
   "cell_type": "code",
   "execution_count": 1,
   "metadata": {
    "collapsed": false
   },
   "outputs": [
    {
     "name": "stdout",
     "output_type": "stream",
     "text": [
      "List Iteration\n",
      "Tit\n",
      "for\n",
      "Tat\n"
     ]
    }
   ],
   "source": [
    "print(\"List Iteration\") \n",
    "l = [\"Tit\", \"for\", \"Tat\"] \n",
    "for i in l: \n",
    "    print(i) "
   ]
  },
  {
   "cell_type": "code",
   "execution_count": 2,
   "metadata": {
    "collapsed": false
   },
   "outputs": [
    {
     "name": "stdout",
     "output_type": "stream",
     "text": [
      "\n",
      "Tuple Iteration\n",
      "Tit\n",
      "for\n",
      "Tat\n"
     ]
    }
   ],
   "source": [
    "# Iterating over a tuple (immutable) \n",
    "print(\"\\nTuple Iteration\") \n",
    "t = (\"Tit\", \"for\", \"Tat\") \n",
    "for i in t: \n",
    "    print(i) "
   ]
  },
  {
   "cell_type": "code",
   "execution_count": 4,
   "metadata": {
    "collapsed": false
   },
   "outputs": [
    {
     "name": "stdout",
     "output_type": "stream",
     "text": [
      "Enter a string: malayalam\n",
      "The string is a palindrome.\n"
     ]
    }
   ],
   "source": [
    "#Iterating over a string\n",
    "# Taking a string from user\n",
    "s = input(\"Enter a string: \")\n",
    "# checking for palindrome using the for loop\n",
    "for i in range(0,len(s)//2):\n",
    "    if(s[i] != s[len(s)-i-1]):\n",
    "        found = False\n",
    "        break\n",
    "    else:\n",
    "        found = True\n",
    "# Checking whether the given string and reversed string is same\n",
    "if found:\n",
    "    print(\"The string is a palindrome.\")\n",
    "else:\n",
    "    print(\"The string is not a palindrome.\")"
   ]
  },
  {
   "cell_type": "code",
   "execution_count": 5,
   "metadata": {
    "collapsed": false
   },
   "outputs": [
    {
     "name": "stdout",
     "output_type": "stream",
     "text": [
      "List Of given states and their capitals:\n",
      "\n",
      "Goa : Panjim\n",
      "Maharashtra : Mumbai\n",
      "Karnataka : Bengaluru\n",
      "Tamil Nadu : Chennai\n"
     ]
    }
   ],
   "source": [
    "# Iterating over dictionary \n",
    "statesAndCapitals = { \n",
    "                     'Goa' : 'Panjim','Maharashtra' : 'Mumbai',\n",
    "    'Karnataka' : 'Bengaluru','Tamil Nadu' : 'Chennai'\n",
    "                    } \n",
    "                      \n",
    "print('List Of given states and their capitals:\\n') \n",
    "  \n",
    "# Iterating over values \n",
    "for state, capital in statesAndCapitals.items(): \n",
    "    print(state, \":\", capital) "
   ]
  },
  {
   "cell_type": "code",
   "execution_count": 6,
   "metadata": {
    "collapsed": false
   },
   "outputs": [
    {
     "name": "stdout",
     "output_type": "stream",
     "text": [
      "\n",
      "Please Enter the Range Number for which You Want to Print the Fibonacci Series : 7\n"
     ]
    }
   ],
   "source": [
    "# Fibonacci series will start at 0 and continue upto below number\n",
    "Number = int(input(\"\\nPlease Enter the Range Number for which You Want to Print the Fibonacci Series : \"))"
   ]
  },
  {
   "cell_type": "code",
   "execution_count": 7,
   "metadata": {
    "collapsed": true
   },
   "outputs": [],
   "source": [
    "First_Value = 0\n",
    "Second_Value = 1"
   ]
  },
  {
   "cell_type": "code",
   "execution_count": 8,
   "metadata": {
    "collapsed": false
   },
   "outputs": [
    {
     "name": "stdout",
     "output_type": "stream",
     "text": [
      "0\n",
      "1\n",
      "1\n",
      "2\n",
      "3\n",
      "5\n",
      "8\n"
     ]
    }
   ],
   "source": [
    "for Num in range(0, Number):\n",
    "           if(Num <= 1):\n",
    "                      Next = Num\n",
    "           else:\n",
    "                      Next = First_Value + Second_Value\n",
    "                      First_Value = Second_Value\n",
    "                      Second_Value = Next\n",
    "           print(Next)"
   ]
  },
  {
   "cell_type": "code",
   "execution_count": 9,
   "metadata": {
    "collapsed": false
   },
   "outputs": [
    {
     "name": "stdout",
     "output_type": "stream",
     "text": [
      "range(0, 7)\n"
     ]
    }
   ],
   "source": [
    "print(range(0,7))"
   ]
  },
  {
   "cell_type": "code",
   "execution_count": 10,
   "metadata": {
    "collapsed": false
   },
   "outputs": [
    {
     "name": "stdout",
     "output_type": "stream",
     "text": [
      "0\n",
      "1\n",
      "2\n",
      "3\n",
      "4\n",
      "5\n",
      "6\n"
     ]
    }
   ],
   "source": [
    "for i in range(0,7):\n",
    "    print(i)"
   ]
  },
  {
   "cell_type": "code",
   "execution_count": 11,
   "metadata": {
    "collapsed": false
   },
   "outputs": [
    {
     "name": "stdout",
     "output_type": "stream",
     "text": [
      "0\n",
      "1\n",
      "2\n",
      "3\n",
      "4\n",
      "5\n",
      "6\n"
     ]
    }
   ],
   "source": [
    "for i in range(7):\n",
    "    print(i)"
   ]
  },
  {
   "cell_type": "code",
   "execution_count": 12,
   "metadata": {
    "collapsed": false
   },
   "outputs": [
    {
     "name": "stdout",
     "output_type": "stream",
     "text": [
      "2\n",
      "3\n",
      "4\n",
      "5\n",
      "6\n"
     ]
    }
   ],
   "source": [
    "for i in range(2,7):\n",
    "    print(i)"
   ]
  },
  {
   "cell_type": "code",
   "execution_count": null,
   "metadata": {
    "collapsed": true
   },
   "outputs": [],
   "source": []
  }
 ],
 "metadata": {
  "kernelspec": {
   "display_name": "Python 3 (ipykernel)",
   "language": "python",
   "name": "python3"
  },
  "language_info": {
   "codemirror_mode": {
    "name": "ipython",
    "version": 3
   },
   "file_extension": ".py",
   "mimetype": "text/x-python",
   "name": "python",
   "nbconvert_exporter": "python",
   "pygments_lexer": "ipython3",
   "version": "3.9.7"
  }
 },
 "nbformat": 4,
 "nbformat_minor": 0
}
