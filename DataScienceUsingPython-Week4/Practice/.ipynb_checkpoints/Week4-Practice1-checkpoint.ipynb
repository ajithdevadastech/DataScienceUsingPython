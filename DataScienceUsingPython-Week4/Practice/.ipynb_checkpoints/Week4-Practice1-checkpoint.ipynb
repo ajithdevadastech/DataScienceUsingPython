{
 "cells": [
  {
   "cell_type": "code",
   "execution_count": 1,
   "metadata": {
    "collapsed": true
   },
   "outputs": [],
   "source": [
    "import random"
   ]
  },
  {
   "cell_type": "code",
   "execution_count": 6,
   "metadata": {
    "collapsed": true
   },
   "outputs": [],
   "source": [
    "number = random.randint(1,9)\n",
    "guess = 0\n",
    "count = 0"
   ]
  },
  {
   "cell_type": "code",
   "execution_count": 5,
   "metadata": {
    "collapsed": false
   },
   "outputs": [
    {
     "name": "stdout",
     "output_type": "stream",
     "text": [
      "4\n"
     ]
    }
   ],
   "source": [
    "print(number)"
   ]
  },
  {
   "cell_type": "code",
   "execution_count": 7,
   "metadata": {
    "collapsed": false
   },
   "outputs": [
    {
     "name": "stdout",
     "output_type": "stream",
     "text": [
      "Welcome To The Guessing Game\n",
      "Guess the number between 1 to 9:5\n",
      "Too low!\n",
      "Guess the number between 1 to 9:8\n",
      "Too high!\n",
      "Guess the number between 1 to 9:6\n",
      "You got it!\n",
      "And it only took you 3 tries!\n"
     ]
    }
   ],
   "source": [
    "print(\"Welcome To The Guessing Game\")\n",
    "while count!=6:\n",
    "    guess = input(\"Guess the number between 1 to 9:\")    \n",
    "    guess = int(guess)\n",
    "    count += 1    \n",
    "    if guess < number:\n",
    "            print(\"Too low!\")\n",
    "    elif guess > number:\n",
    "            print(\"Too high!\")\n",
    "    else:\n",
    "            print(\"You got it!\")\n",
    "            print(\"And it only took you\",count,\"tries!\")\n",
    "            break"
   ]
  },
  {
   "cell_type": "code",
   "execution_count": null,
   "metadata": {
    "collapsed": true
   },
   "outputs": [],
   "source": []
  }
 ],
 "metadata": {
  "kernelspec": {
   "display_name": "Python 3 (ipykernel)",
   "language": "python",
   "name": "python3"
  },
  "language_info": {
   "codemirror_mode": {
    "name": "ipython",
    "version": 3
   },
   "file_extension": ".py",
   "mimetype": "text/x-python",
   "name": "python",
   "nbconvert_exporter": "python",
   "pygments_lexer": "ipython3",
   "version": "3.9.7"
  }
 },
 "nbformat": 4,
 "nbformat_minor": 0
}
