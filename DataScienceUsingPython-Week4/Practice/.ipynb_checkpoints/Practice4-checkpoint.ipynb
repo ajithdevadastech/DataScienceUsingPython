{
 "cells": [
  {
   "cell_type": "code",
   "execution_count": 1,
   "metadata": {
    "collapsed": true
   },
   "outputs": [],
   "source": [
    "class Bank_Account: \n",
    "#The _init_ function run as soon as an object of a class is instantiated\n",
    "    def __init__(self): \n",
    "        self.balance=0\n",
    "        print(\"Hello! Welcome to the Deposit & Withdrawal Machine\") \n",
    "#function to deposit money\n",
    "    def deposit(self): \n",
    "        amount=float(input(\"Enter amount to be Deposited: \")) \n",
    "        self.balance += amount \n",
    "        print(\"\\n Amount Deposited:\",amount) \n",
    "#function to withdraw money\n",
    "    def withdraw(self,amount): \n",
    "        if self.balance>=amount: \n",
    "            self.balance-=amount \n",
    "            print(\"\\n You Withdrew:\", amount) \n",
    "        else: \n",
    "            print(\"\\n Insufficient balance  \") \n",
    "#function to display the amount\n",
    "    def display(self): \n",
    "        print(\"\\n Net Available Balance=\",round(self.balance,2) )"
   ]
  },
  {
   "cell_type": "code",
   "execution_count": 2,
   "metadata": {
    "collapsed": false
   },
   "outputs": [
    {
     "name": "stdout",
     "output_type": "stream",
     "text": [
      "Hello! Welcome to the Deposit & Withdrawal Machine\n",
      "Enter amount to be Deposited: 500\n",
      "\n",
      " Amount Deposited: 500.0\n",
      "Enter amount to withdraw: 300\n",
      "\n",
      " You Withdrew: 300.0\n",
      "\n",
      " Net Available Balance= 200.0\n"
     ]
    }
   ],
   "source": [
    "#create object of the class\n",
    "s = Bank_Account() \n",
    "   \n",
    "# Call functions with that class object \n",
    "s.deposit() \n",
    "withdraw_amt=float(input(\"Enter amount to withdraw: \")) \n",
    "#Pass arguement to the withdraw function\n",
    "s.withdraw(withdraw_amt) \n",
    "s.display() "
   ]
  },
  {
   "cell_type": "code",
   "execution_count": null,
   "metadata": {
    "collapsed": true
   },
   "outputs": [],
   "source": []
  }
 ],
 "metadata": {
  "kernelspec": {
   "display_name": "Python 3 (ipykernel)",
   "language": "python",
   "name": "python3"
  },
  "language_info": {
   "codemirror_mode": {
    "name": "ipython",
    "version": 3
   },
   "file_extension": ".py",
   "mimetype": "text/x-python",
   "name": "python",
   "nbconvert_exporter": "python",
   "pygments_lexer": "ipython3",
   "version": "3.9.7"
  }
 },
 "nbformat": 4,
 "nbformat_minor": 0
}
