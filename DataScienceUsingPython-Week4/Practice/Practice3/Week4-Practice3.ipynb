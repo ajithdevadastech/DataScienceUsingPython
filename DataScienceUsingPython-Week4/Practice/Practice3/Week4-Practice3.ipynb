{
 "cells": [
  {
   "cell_type": "code",
   "execution_count": 1,
   "metadata": {
    "collapsed": false
   },
   "outputs": [
    {
     "name": "stdout",
     "output_type": "stream",
     "text": [
      "﻿It’s been said that Data Scientist is the“sexiest job title of the 21st century.” Why is it such\n",
      "\n",
      "a demanded position these days? The short answer is that over the last decade there’s been a\n",
      "\n",
      "massive explosion in both the data generated and retained by companies, as well as you and\n",
      "\n",
      "me. Sometimes we call this “big data,” and like a pile of lumber we’d like to build something \n",
      "\n",
      "with it. Data scientists are the people who make sense out of all this data and figure out just \n",
      "\n",
      "what can be done with it.\n",
      "\n"
     ]
    }
   ],
   "source": [
    "file=open('DataScience.txt','r')\n",
    "for each in file:\n",
    "   print(each)"
   ]
  },
  {
   "cell_type": "code",
   "execution_count": 2,
   "metadata": {
    "collapsed": false
   },
   "outputs": [
    {
     "name": "stdout",
     "output_type": "stream",
     "text": [
      "﻿It’s been said that Data Scientist is the“sexiest job title of the 21st century.” Why is it such\n",
      "\n",
      "a demanded position these days? The short answer is that over the last decade there’s been a\n",
      "\n",
      "massive explosion in both the tata generated and retained by companies, as well as you and\n",
      "\n",
      "me. Sometimes we call this “big tata,” and like a pile of lumber we’d like to build something \n",
      "\n",
      "with it. Data scientists are the people who make sense out of all this tata and figure out just \n",
      "\n",
      "what can be done with it.\n",
      "\n"
     ]
    }
   ],
   "source": [
    "ds = open(\"DataScience.txt\", \"r\")\n",
    "new=open('Data.txt','w')\n",
    "for i in ds:\n",
    "    i=i.replace('data','tata')\n",
    "    new.write(i)\n",
    "ds.close()\n",
    "new.close()\n",
    "sci=open('Data.txt','r')\n",
    "for i in sci:\n",
    "    print(i)\n",
    "sci.close()"
   ]
  },
  {
   "cell_type": "code",
   "execution_count": 3,
   "metadata": {
    "collapsed": true
   },
   "outputs": [],
   "source": [
    "ds.close()"
   ]
  },
  {
   "cell_type": "code",
   "execution_count": 4,
   "metadata": {
    "collapsed": true
   },
   "outputs": [],
   "source": [
    "import os\n",
    "os.rename(\"Data.txt\",\"New_Science.txt\")"
   ]
  },
  {
   "cell_type": "code",
   "execution_count": 5,
   "metadata": {
    "collapsed": true
   },
   "outputs": [],
   "source": [
    "file = open(\"New_Science.txt\", \"a\")\n",
    "file.write(\"A data scientist is the adult version of the kid who can’t stop asking “Why?”.\")\n",
    "file.close()"
   ]
  },
  {
   "cell_type": "code",
   "execution_count": 6,
   "metadata": {
    "collapsed": false
   },
   "outputs": [
    {
     "name": "stdout",
     "output_type": "stream",
     "text": [
      "﻿It’s been said that Data Scientist is the“sexiest job title of the 21st century.” Why is it such\n",
      "\n",
      "a demanded position these days? The short answer is that over the last decade there’s been a\n",
      "\n",
      "massive explosion in both the tata generated and retained by companies, as well as you and\n",
      "\n",
      "me. Sometimes we call this “big tata,” and like a pile of lumber we’d like to build something \n",
      "\n",
      "with it. Data scientists are the people who make sense out of all this tata and figure out just \n",
      "\n",
      "what can be done with it.\n",
      "\n",
      "A data scientist is the adult version of the kid who can’t stop asking “Why?”.\n"
     ]
    }
   ],
   "source": [
    "sci=open('New_Science.txt','r')\n",
    "for i in sci:\n",
    "    print(i)\n",
    "sci.close()"
   ]
  },
  {
   "cell_type": "code",
   "execution_count": null,
   "metadata": {
    "collapsed": true
   },
   "outputs": [],
   "source": []
  }
 ],
 "metadata": {
  "kernelspec": {
   "display_name": "Python 3 (ipykernel)",
   "language": "python",
   "name": "python3"
  },
  "language_info": {
   "codemirror_mode": {
    "name": "ipython",
    "version": 3
   },
   "file_extension": ".py",
   "mimetype": "text/x-python",
   "name": "python",
   "nbconvert_exporter": "python",
   "pygments_lexer": "ipython3",
   "version": "3.9.7"
  }
 },
 "nbformat": 4,
 "nbformat_minor": 0
}
