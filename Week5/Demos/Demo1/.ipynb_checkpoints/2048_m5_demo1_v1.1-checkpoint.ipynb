{
 "cells": [
  {
   "cell_type": "markdown",
   "metadata": {
    "id": "DRms8aaaZl2E"
   },
   "source": [
    "<h2><u>Data Science Using Python</u></h2>\n",
    "\n",
    "# Module 5: Array Computations\n",
    "\n",
    "## Demo 1: Matrix Product and Aggregate Functions"
   ]
  },
  {
   "cell_type": "markdown",
   "metadata": {
    "id": "sE_5i4GEZl2J"
   },
   "source": [
    "In this demo, you will be shown how to implement Hill Cipher using matrix product and also implementation on some aggregate functions."
   ]
  },
  {
   "cell_type": "markdown",
   "metadata": {
    "id": "BpjCPiNqZl2J"
   },
   "source": [
    "### Question 1: Perform Hill Cipher using matrix product"
   ]
  },
  {
   "cell_type": "markdown",
   "metadata": {
    "id": "i3pumQtzZl2K"
   },
   "source": [
    "#### Description about Hill Cipher"
   ]
  },
  {
   "cell_type": "markdown",
   "metadata": {
    "id": "Yc0c5_LFZl2L"
   },
   "source": [
    "'''\n",
    "Hill Cipher is a polygraphic substitution cipher based on linear algebra.\n",
    "Here the plain text is converted into encrypted form.\n",
    "Each letter of plain text is represented by a number modulo 26.\n",
    "Often the simple scheme A=0, B=1,....Z=25 is used\n",
    "To encrypt a message, each block of n letters is multiplied by an invertible n × n matrix, against modulus 26\n",
    "The matrix used for encryption is the cipher key, and it should be chosen randomly\n",
    "Lets us take plain text = edureka and cipher key = [11 9\n",
    "                                                     8 17]\n",
    "Plain text is converted into 2×1 matrix format i.e. [e d] [u r] [e k]\n",
    "Again plain text is converted into numbers i.e. [4 3] [20 11] [4 10]\n",
    "So, encryption of hill cipher = (each column of plain text)*(key)*mod 26\n",
    "'''"
   ]
  },
  {
   "cell_type": "markdown",
   "metadata": {
    "id": "Z23kaQFWZl2M"
   },
   "source": [
    "### Step 1: Import the libraries"
   ]
  },
  {
   "cell_type": "code",
   "execution_count": null,
   "metadata": {
    "id": "QTeQbosLZl2M"
   },
   "outputs": [],
   "source": [
    "import numpy as np"
   ]
  },
  {
   "cell_type": "markdown",
   "metadata": {
    "id": "gEgoJOHiZl2O"
   },
   "source": [
    "### Step 2: Create numpy array a as first column of plain text and array b as key"
   ]
  },
  {
   "cell_type": "code",
   "execution_count": null,
   "metadata": {
    "id": "G-zXFbazZl2O"
   },
   "outputs": [],
   "source": [
    "a = np.array([4,3])\n",
    "b= np.array([[11,9],[8,17]])"
   ]
  },
  {
   "cell_type": "markdown",
   "metadata": {
    "id": "WLMItuoIZl2P"
   },
   "source": [
    "### Step 3: Perform matrix product between array a and b"
   ]
  },
  {
   "cell_type": "code",
   "execution_count": null,
   "metadata": {
    "id": "CE-nHLe7Zl2P"
   },
   "outputs": [],
   "source": [
    "c=np.dot(a,b)"
   ]
  },
  {
   "cell_type": "markdown",
   "metadata": {
    "id": "MXJnDOjOZl2P"
   },
   "source": [
    "### Step 4: Perform encryption of plain text using mod function"
   ]
  },
  {
   "cell_type": "code",
   "execution_count": null,
   "metadata": {
    "colab": {
     "base_uri": "https://localhost:8080/"
    },
    "id": "E4KUegzWZl2Q",
    "outputId": "8c9fab32-a953-4d50-ab22-d37031ea5580"
   },
   "outputs": [
    {
     "name": "stdout",
     "output_type": "stream",
     "text": [
      "h= [16  9]\n"
     ]
    }
   ],
   "source": [
    "h = np.mod(c,26)\n",
    "print(\"h=\",h)"
   ]
  },
  {
   "cell_type": "markdown",
   "metadata": {
    "id": "nF2rDtHBZl2Q"
   },
   "source": [
    "### Step 5: Create numpy array d of second column of plain text and array b as key"
   ]
  },
  {
   "cell_type": "code",
   "execution_count": null,
   "metadata": {
    "id": "yxKAwiiTZl2R"
   },
   "outputs": [],
   "source": [
    "d = np.array([20,11])"
   ]
  },
  {
   "cell_type": "markdown",
   "metadata": {
    "id": "U_uNC4asZl2R"
   },
   "source": [
    "### Step 6: Perform matrix product between array d and b"
   ]
  },
  {
   "cell_type": "code",
   "execution_count": null,
   "metadata": {
    "id": "ouoWj33eZl2R"
   },
   "outputs": [],
   "source": [
    "f = np.dot(d,b)"
   ]
  },
  {
   "cell_type": "markdown",
   "metadata": {
    "id": "LjRma5yVZl2R"
   },
   "source": [
    "### Step 7: Perform encyption of plain text using mod function"
   ]
  },
  {
   "cell_type": "code",
   "execution_count": null,
   "metadata": {
    "colab": {
     "base_uri": "https://localhost:8080/"
    },
    "id": "GCTMBA-qZl2S",
    "outputId": "4030dc19-ac94-4bf9-e52f-b7dc917d58ca"
   },
   "outputs": [
    {
     "name": "stdout",
     "output_type": "stream",
     "text": [
      "h1= [22  3]\n"
     ]
    }
   ],
   "source": [
    "h1=np.mod(f,26)\n",
    "print(\"h1=\",h1)"
   ]
  },
  {
   "cell_type": "markdown",
   "metadata": {
    "id": "z7o8lfmEZl2S"
   },
   "source": [
    "### Step 8: Create a numpy array g of last column of plain text and array b as key"
   ]
  },
  {
   "cell_type": "code",
   "execution_count": null,
   "metadata": {
    "id": "-cCtQHifZl2S"
   },
   "outputs": [],
   "source": [
    "g = np.array([4,10])"
   ]
  },
  {
   "cell_type": "markdown",
   "metadata": {
    "id": "oPPuyZXnZl2S"
   },
   "source": [
    "### Step 9: Perform matrix product between array g and b"
   ]
  },
  {
   "cell_type": "code",
   "execution_count": null,
   "metadata": {
    "id": "G8fp8BJ5Zl2T"
   },
   "outputs": [],
   "source": [
    "j =np.dot(g,b)"
   ]
  },
  {
   "cell_type": "markdown",
   "metadata": {
    "id": "SXW3XJD6Zl2T"
   },
   "source": [
    "### Step 10: Perform encyption of plain text using mod function"
   ]
  },
  {
   "cell_type": "code",
   "execution_count": null,
   "metadata": {
    "colab": {
     "base_uri": "https://localhost:8080/"
    },
    "id": "4L44ZUz9Zl2T",
    "outputId": "da64dde4-16a1-4973-f162-e366ad2aa986",
    "scrolled": true
   },
   "outputs": [
    {
     "name": "stdout",
     "output_type": "stream",
     "text": [
      "h2 [20 24]\n"
     ]
    }
   ],
   "source": [
    "h2=np.mod(j,26) \n",
    "print(\"h2\",h2)"
   ]
  },
  {
   "cell_type": "markdown",
   "metadata": {
    "id": "gMGj4_KOZl2T"
   },
   "source": [
    "Represent the matrix h, h1, h2 in alphabetic manner as explained above. So Plain Text in encypted format will be qjwduy."
   ]
  },
  {
   "cell_type": "markdown",
   "metadata": {
    "id": "mQrCcz6GZl2T"
   },
   "source": [
    "#### Conclusion: This code demonstrates how to perform matrix product"
   ]
  },
  {
   "cell_type": "markdown",
   "metadata": {
    "id": "y3q6A7uxZl2T"
   },
   "source": [
    "#### Question 2: Perform aggregate function on marks.csv file"
   ]
  },
  {
   "cell_type": "markdown",
   "metadata": {
    "id": "0BAyBLfyZl2U"
   },
   "source": [
    "### Step 1: Import the libraries"
   ]
  },
  {
   "cell_type": "code",
   "execution_count": null,
   "metadata": {
    "id": "cbe8PSnsZl2U"
   },
   "outputs": [],
   "source": [
    "import numpy as np"
   ]
  },
  {
   "cell_type": "markdown",
   "metadata": {
    "id": "CYCDSGx_Zl2U"
   },
   "source": [
    "### Step 2: Load marks.csv file"
   ]
  },
  {
   "cell_type": "code",
   "execution_count": null,
   "metadata": {
    "id": "tPKeLR9iZl2U"
   },
   "outputs": [],
   "source": [
    "data = np.loadtxt('marks.csv',delimiter=',',usecols=(5),skiprows=1)"
   ]
  },
  {
   "cell_type": "markdown",
   "metadata": {
    "id": "1O0MWkBeZl2U"
   },
   "source": [
    "### Step 3: Display the column on which we are going to perform different aggregate functions"
   ]
  },
  {
   "cell_type": "code",
   "execution_count": null,
   "metadata": {
    "colab": {
     "base_uri": "https://localhost:8080/"
    },
    "id": "OtMts-6TZl2U",
    "outputId": "b97c9889-59f2-4b7d-db1a-116758262838"
   },
   "outputs": [
    {
     "name": "stdout",
     "output_type": "stream",
     "text": [
      "Data: [420. 280. 350. 269. 317. 470. 333. 365. 305. 350. 460. 474. 409. 377.\n",
      " 415. 382. 298. 462. 370. 313. 464. 302. 252. 259. 308. 392. 424. 403.\n",
      " 370. 328. 398. 434. 291. 472. 263. 439. 464. 449. 401. 364. 296. 292.\n",
      " 438. 357. 331. 317. 429. 407. 321. 274. 447. 274. 437. 411. 257. 310.\n",
      " 396. 270. 311. 459. 378. 316. 283. 266. 381. 409. 313. 306. 448. 348.\n",
      " 292. 400. 352. 441. 428. 309. 441. 439. 264. 281. 302. 432. 423. 336.\n",
      " 383. 321. 469. 270. 341. 281. 403. 333. 323. 348. 345. 397. 449. 261.\n",
      " 456. 370. 322. 379. 446. 404. 301. 254. 351. 444. 264. 286. 463. 273.\n",
      " 316. 324. 465. 398. 324. 340. 414. 346. 408. 332. 394. 474. 398. 262.\n",
      " 410. 391. 444. 461.]\n"
     ]
    }
   ],
   "source": [
    "print(\"Data:\", data)"
   ]
  },
  {
   "cell_type": "markdown",
   "metadata": {
    "id": "Df9FZs4LZl2V"
   },
   "source": [
    "### Step 4: Calculate different aggregate function on marks.csv file"
   ]
  },
  {
   "cell_type": "code",
   "execution_count": null,
   "metadata": {
    "colab": {
     "base_uri": "https://localhost:8080/"
    },
    "id": "6Hstm_hTZl2V",
    "outputId": "4befd5d8-7b67-4ad2-8a15-b05854ea10aa"
   },
   "outputs": [
    {
     "name": "stdout",
     "output_type": "stream",
     "text": [
      "Sum: 47356.0\n"
     ]
    }
   ],
   "source": [
    "#Calculating sum of the given data\n",
    "print(\"Sum:\",data.sum())"
   ]
  },
  {
   "cell_type": "code",
   "execution_count": null,
   "metadata": {
    "colab": {
     "base_uri": "https://localhost:8080/"
    },
    "id": "4ILX3aV7Zl2V",
    "outputId": "02586c4f-7d21-44a3-d6ca-e303eecaa00e"
   },
   "outputs": [
    {
     "name": "stdout",
     "output_type": "stream",
     "text": [
      "Minimum: 252.0\n"
     ]
    }
   ],
   "source": [
    "#Calculating minimum from the given data\n",
    "print(\"Minimum:\",data.min())"
   ]
  },
  {
   "cell_type": "code",
   "execution_count": null,
   "metadata": {
    "colab": {
     "base_uri": "https://localhost:8080/"
    },
    "id": "KHmSppAWZl2V",
    "outputId": "1809eba3-9318-4bbd-c0e0-b81f4a6f44a3"
   },
   "outputs": [
    {
     "name": "stdout",
     "output_type": "stream",
     "text": [
      "Maximum: 474.0\n"
     ]
    }
   ],
   "source": [
    "#Calculating maximum from the given data\n",
    "print(\"Maximum:\",data.max())"
   ]
  },
  {
   "cell_type": "code",
   "execution_count": null,
   "metadata": {
    "colab": {
     "base_uri": "https://localhost:8080/"
    },
    "id": "7BW0C58SZl2V",
    "outputId": "cfdb6d32-3899-4a42-c59f-6bb37fbc5c55"
   },
   "outputs": [
    {
     "name": "stdout",
     "output_type": "stream",
     "text": [
      "Mean: 364.2769230769231\n"
     ]
    }
   ],
   "source": [
    "#Calculating mean of the given data\n",
    "print(\"Mean:\",data.mean())"
   ]
  },
  {
   "cell_type": "code",
   "execution_count": null,
   "metadata": {
    "colab": {
     "base_uri": "https://localhost:8080/"
    },
    "id": "U-Yvf25SZl2W",
    "outputId": "6a340ea2-c4c4-4dc5-904f-bf6e9dfec6ce"
   },
   "outputs": [
    {
     "name": "stdout",
     "output_type": "stream",
     "text": [
      "Standard Deviation: 66.17947803971762\n"
     ]
    }
   ],
   "source": [
    "#Calculating standard deviation of  the given data\n",
    "print(\"Standard Deviation:\",data.std())"
   ]
  },
  {
   "cell_type": "markdown",
   "metadata": {
    "id": "FiSpia2KZl2W"
   },
   "source": [
    "#### Conclusion: This code demonstrates how to calculate aggregate functions."
   ]
  }
 ],
 "metadata": {
  "colab": {
   "provenance": []
  },
  "kernelspec": {
   "display_name": "Python 3",
   "language": "python",
   "name": "python3"
  },
  "language_info": {
   "codemirror_mode": {
    "name": "ipython",
    "version": 3
   },
   "file_extension": ".py",
   "mimetype": "text/x-python",
   "name": "python",
   "nbconvert_exporter": "python",
   "pygments_lexer": "ipython3",
   "version": "3.7.3"
  }
 },
 "nbformat": 4,
 "nbformat_minor": 0
}
