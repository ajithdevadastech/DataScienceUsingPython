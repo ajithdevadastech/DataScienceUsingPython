{
 "cells": [
  {
   "cell_type": "markdown",
   "metadata": {
    "id": "fuQ5E9nHabaJ"
   },
   "source": [
    "<h2><u>Data Science Using Python</u></h2>\n",
    "\n",
    "# Module 5: Array Computations\n",
    "\n",
    "## Demo 3: File Handling in NumPy"
   ]
  },
  {
   "cell_type": "markdown",
   "metadata": {
    "id": "Rjf4EKnFabaO"
   },
   "source": [
    "In this demo, you will be shown how to handle files in NumPy."
   ]
  },
  {
   "cell_type": "markdown",
   "metadata": {
    "id": "LYokF5SFabaP"
   },
   "source": [
    "### Loading and Saving Data in Binary file"
   ]
  },
  {
   "cell_type": "code",
   "execution_count": null,
   "metadata": {
    "id": "oSO1KCPAabaQ"
   },
   "outputs": [],
   "source": [
    "#Import the library\n",
    "import numpy as np"
   ]
  },
  {
   "cell_type": "code",
   "execution_count": null,
   "metadata": {
    "colab": {
     "base_uri": "https://localhost:8080/"
    },
    "id": "KtWIF8zfabaR",
    "outputId": "f450bf1d-7a5b-4561-e75c-d3ea47b63e6c"
   },
   "outputs": [
    {
     "name": "stdout",
     "output_type": "stream",
     "text": [
      "a= [[0. 0. 0.]\n",
      " [0. 0. 0.]\n",
      " [0. 0. 0.]]\n",
      "b= [[1. 1. 1.]\n",
      " [1. 1. 1.]\n",
      " [1. 1. 1.]]\n"
     ]
    }
   ],
   "source": [
    "#Creating the array using zeros() and ones()\n",
    "a = np.zeros((3,3))\n",
    "b = np.ones((3,3))\n",
    "print('a=',a)\n",
    "print('b=',b)"
   ]
  },
  {
   "cell_type": "code",
   "execution_count": null,
   "metadata": {
    "id": "mGS0LIfEabaS"
   },
   "outputs": [],
   "source": [
    "#SavE arrays to binary file\n",
    "np.save('file1.npy',(a,b))"
   ]
  },
  {
   "cell_type": "code",
   "execution_count": null,
   "metadata": {
    "colab": {
     "base_uri": "https://localhost:8080/"
    },
    "id": "B0igkppdabaT",
    "outputId": "e55df515-ce32-4b07-d911-c3085fd5655e"
   },
   "outputs": [
    {
     "name": "stdout",
     "output_type": "stream",
     "text": [
      "[[[0. 0. 0.]\n",
      "  [0. 0. 0.]\n",
      "  [0. 0. 0.]]\n",
      "\n",
      " [[1. 1. 1.]\n",
      "  [1. 1. 1.]\n",
      "  [1. 1. 1.]]]\n"
     ]
    }
   ],
   "source": [
    "#Load data from binary file\n",
    "c=np.load('file1.npy')\n",
    "print(c)"
   ]
  },
  {
   "cell_type": "markdown",
   "metadata": {
    "id": "OvtE5qtgabaT"
   },
   "source": [
    "### Loading and saving data in text and csv file"
   ]
  },
  {
   "cell_type": "code",
   "execution_count": null,
   "metadata": {
    "id": "yEU7rt9GabaU"
   },
   "outputs": [],
   "source": [
    "#Import the library\n",
    "import numpy as np"
   ]
  },
  {
   "cell_type": "code",
   "execution_count": null,
   "metadata": {
    "colab": {
     "base_uri": "https://localhost:8080/"
    },
    "id": "zq9fMCaHabaU",
    "outputId": "7c3a7b1e-f057-40a9-c806-3a2badd962d6"
   },
   "outputs": [
    {
     "name": "stdout",
     "output_type": "stream",
     "text": [
      "[0 1 2 3 4 5 6 7 8 9]\n"
     ]
    }
   ],
   "source": [
    "#Create an array\n",
    "a = np.arange(0,10,1)\n",
    "print(a)"
   ]
  },
  {
   "cell_type": "code",
   "execution_count": null,
   "metadata": {
    "colab": {
     "base_uri": "https://localhost:8080/"
    },
    "id": "LallJ0gAabaV",
    "outputId": "e199c2bb-eebd-4924-9895-1a1300ea0899"
   },
   "outputs": [
    {
     "name": "stdout",
     "output_type": "stream",
     "text": [
      "the file contains:\n",
      "0.000000000000000000e+00\n",
      "1.000000000000000000e+00\n",
      "2.000000000000000000e+00\n",
      "3.000000000000000000e+00\n",
      "4.000000000000000000e+00\n",
      "5.000000000000000000e+00\n",
      "6.000000000000000000e+00\n",
      "7.000000000000000000e+00\n",
      "8.000000000000000000e+00\n",
      "9.000000000000000000e+00\n",
      "\n"
     ]
    }
   ],
   "source": [
    "#Save array to text file and reading the file\n",
    "b = np.savetxt('file2.txt', a, delimiter =', ')    \n",
    "c = open(\"file2.txt\", 'r')# open file in read mode \n",
    "  \n",
    "print(\"the file contains:\") \n",
    "print(c.read()) "
   ]
  },
  {
   "cell_type": "code",
   "execution_count": null,
   "metadata": {
    "colab": {
     "base_uri": "https://localhost:8080/"
    },
    "id": "l6txagzaabaV",
    "outputId": "c7ee938b-a390-4dfa-ba16-46313d35a9a7"
   },
   "outputs": [
    {
     "name": "stdout",
     "output_type": "stream",
     "text": [
      "[0. 1. 2. 3. 4. 5. 6. 7. 8. 9.]\n"
     ]
    }
   ],
   "source": [
    "#Recover data from text file\n",
    "d=np.genfromtxt('file2.txt')\n",
    "print(d)"
   ]
  },
  {
   "cell_type": "code",
   "execution_count": null,
   "metadata": {
    "colab": {
     "base_uri": "https://localhost:8080/"
    },
    "id": "s6d-LMwnabaV",
    "outputId": "86a43683-8a6b-416a-ebe1-937bf20fc1b5"
   },
   "outputs": [
    {
     "data": {
      "text/plain": [
       "array([420., 280., 350., 269., 317., 470., 333., 365., 305., 350., 460.,\n",
       "       474., 409., 377., 415., 382., 298., 462., 370., 313., 464., 302.,\n",
       "       252., 259., 308., 392., 424., 403., 370., 328., 398., 434., 291.,\n",
       "       472., 263., 439., 464., 449., 401., 364., 296., 292., 438., 357.,\n",
       "       331., 317., 429., 407., 321., 274., 447., 274., 437., 411., 257.,\n",
       "       310., 396., 270., 311., 459., 378., 316., 283., 266., 381., 409.,\n",
       "       313., 306., 448., 348., 292., 400., 352., 441., 428., 309., 441.,\n",
       "       439., 264., 281., 302., 432., 423., 336., 383., 321., 469., 270.,\n",
       "       341., 281., 403., 333., 323., 348., 345., 397., 449., 261., 456.,\n",
       "       370., 322., 379., 446., 404., 301., 254., 351., 444., 264., 286.,\n",
       "       463., 273., 316., 324., 465., 398., 324., 340., 414., 346., 408.,\n",
       "       332., 394., 474., 398., 262., 410., 391., 444., 461.])"
      ]
     },
     "execution_count": 10,
     "metadata": {},
     "output_type": "execute_result"
    }
   ],
   "source": [
    "#Load a marks.csv file \n",
    "data = np.loadtxt('marks.csv',delimiter=',',usecols=(5),skiprows=1)\n",
    "data"
   ]
  },
  {
   "cell_type": "markdown",
   "metadata": {
    "id": "vGpugrqLabaW"
   },
   "source": [
    "#### Conclusion: This code demonstrates how to perform file handling in NumPy."
   ]
  }
 ],
 "metadata": {
  "colab": {
   "provenance": []
  },
  "kernelspec": {
   "display_name": "Python 3",
   "language": "python",
   "name": "python3"
  },
  "language_info": {
   "codemirror_mode": {
    "name": "ipython",
    "version": 3
   },
   "file_extension": ".py",
   "mimetype": "text/x-python",
   "name": "python",
   "nbconvert_exporter": "python",
   "pygments_lexer": "ipython3",
   "version": "3.7.3"
  }
 },
 "nbformat": 4,
 "nbformat_minor": 0
}
