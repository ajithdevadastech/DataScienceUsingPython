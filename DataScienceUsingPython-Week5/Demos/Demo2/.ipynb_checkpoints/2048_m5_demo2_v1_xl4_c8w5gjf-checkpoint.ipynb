{
 "cells": [
  {
   "cell_type": "markdown",
   "metadata": {
    "id": "U38smuKtaCUV"
   },
   "source": [
    "<h2><u>Data Science Using Python</u></h2>\n",
    "\n",
    "# Module 5: Array Computations\n",
    "\n",
    "## Demo 2: Array Creation and Logic Functions"
   ]
  },
  {
   "cell_type": "markdown",
   "metadata": {
    "id": "NXdFp2PiaCUa"
   },
   "source": [
    "In this demo, you will be shown how to create arrays and perform logic functions on them."
   ]
  },
  {
   "cell_type": "markdown",
   "metadata": {
    "id": "7u5OjypMaCUa"
   },
   "source": [
    "### Question 1: Create the ndarray and swap first two rows of the array"
   ]
  },
  {
   "cell_type": "code",
   "execution_count": null,
   "metadata": {
    "id": "0mJs8z-0aCUb"
   },
   "outputs": [],
   "source": [
    "#Import libraries\n",
    "import numpy as np"
   ]
  },
  {
   "cell_type": "code",
   "execution_count": null,
   "metadata": {
    "colab": {
     "base_uri": "https://localhost:8080/"
    },
    "id": "uz-ICwYyaCUc",
    "outputId": "7e0ad03f-f43a-43b7-f740-d30548886db5"
   },
   "outputs": [
    {
     "name": "stdout",
     "output_type": "stream",
     "text": [
      "Before Swapping [[ 0  1  2  3  4]\n",
      " [ 5  6  7  8  9]\n",
      " [10 11 12 13 14]\n",
      " [15 16 17 18 19]\n",
      " [20 21 22 23 24]]\n",
      "After Swapping [[ 5  6  7  8  9]\n",
      " [ 0  1  2  3  4]\n",
      " [10 11 12 13 14]\n",
      " [15 16 17 18 19]\n",
      " [20 21 22 23 24]]\n"
     ]
    }
   ],
   "source": [
    "#Creation of an array using arange() and rehsape()\n",
    "A = np.arange(25).reshape(5,5)\n",
    "print('Before Swapping',A)\n",
    "\n",
    "#Swap first two column of an array\n",
    "A[[0,1]] = A[[1,0]]\n",
    "print('After Swapping',A)"
   ]
  },
  {
   "cell_type": "markdown",
   "metadata": {
    "id": "0N--0lgWaCUe"
   },
   "source": [
    "### Question 2: Create 1-D array of 20 evenly spaced element between 1 and 100"
   ]
  },
  {
   "cell_type": "code",
   "execution_count": null,
   "metadata": {
    "colab": {
     "base_uri": "https://localhost:8080/"
    },
    "id": "M86Vf5o5aCUe",
    "outputId": "1f0146d0-6c88-48fc-cff4-c087f2a2a140"
   },
   "outputs": [
    {
     "name": "stdout",
     "output_type": "stream",
     "text": [
      "[  1.           6.21052632  11.42105263  16.63157895  21.84210526\n",
      "  27.05263158  32.26315789  37.47368421  42.68421053  47.89473684\n",
      "  53.10526316  58.31578947  63.52631579  68.73684211  73.94736842\n",
      "  79.15789474  84.36842105  89.57894737  94.78947368 100.        ]\n"
     ]
    }
   ],
   "source": [
    "#Create an array using linspace()\n",
    "x = np.linspace(1, 100, 20)\n",
    "\n",
    "#Print an array \n",
    "print(x)"
   ]
  },
  {
   "cell_type": "markdown",
   "metadata": {
    "id": "OpTQaD8waCUf"
   },
   "source": [
    "### Question 3: Create two random arrays A and B\n",
    "a] check whether both the arrays are equal\n",
    "b] Test the type of array element-wise\n",
    "c] Compare two arrays element-wise\n",
    "   So here random array is generated using numpy.random.randint(low, high, size)\n",
    "   It is one of the function for generating random elements in array\n",
    "   It returns an array of specified shape and fills it with random integers from low to high (exclusive), i.e. in the interval    of(low, high)"
   ]
  },
  {
   "cell_type": "code",
   "execution_count": null,
   "metadata": {
    "id": "eYOdAKoBaCUf"
   },
   "outputs": [],
   "source": [
    "#Create two random array between 0 to 100 with 5 elements each\n",
    "A = np.random.randint(0,100,5)\n",
    "B = np.random.randint(0,100,5)"
   ]
  },
  {
   "cell_type": "code",
   "execution_count": null,
   "metadata": {
    "colab": {
     "base_uri": "https://localhost:8080/"
    },
    "id": "R4cHX7P7aCUg",
    "outputId": "11494d03-0d2e-4dc2-a380-7bb69b6de07c"
   },
   "outputs": [
    {
     "name": "stdout",
     "output_type": "stream",
     "text": [
      "[False False False False False]\n"
     ]
    }
   ],
   "source": [
    "#Check whether both the elements are equal\n",
    "x = np.equal(A,B)\n",
    "print(x)"
   ]
  },
  {
   "cell_type": "code",
   "execution_count": null,
   "metadata": {
    "colab": {
     "base_uri": "https://localhost:8080/"
    },
    "id": "Ce171f22aCUg",
    "outputId": "e6488bd6-72cf-4501-84e8-8831f2b19065"
   },
   "outputs": [
    {
     "data": {
      "text/plain": [
       "array([ True,  True,  True,  True,  True])"
      ]
     },
     "execution_count": 6,
     "metadata": {},
     "output_type": "execute_result"
    }
   ],
   "source": [
    "#Test the type of array element-wise for real number\n",
    "np.isreal(A)"
   ]
  },
  {
   "cell_type": "code",
   "execution_count": null,
   "metadata": {
    "colab": {
     "base_uri": "https://localhost:8080/"
    },
    "id": "GJoDtqKhaCUh",
    "outputId": "891bb970-7c2d-4275-b863-ff0714aecb2b"
   },
   "outputs": [
    {
     "data": {
      "text/plain": [
       "array([False, False, False, False, False])"
      ]
     },
     "execution_count": 7,
     "metadata": {},
     "output_type": "execute_result"
    }
   ],
   "source": [
    "#Test the type of array element-wise for complex number\n",
    "np.iscomplex(B)"
   ]
  },
  {
   "cell_type": "code",
   "execution_count": null,
   "metadata": {
    "colab": {
     "base_uri": "https://localhost:8080/"
    },
    "id": "twnpnQxqaCUh",
    "outputId": "7463da74-d0c3-4c5d-f1c0-c396f6dcfb7c"
   },
   "outputs": [
    {
     "data": {
      "text/plain": [
       "array([False,  True,  True,  True,  True])"
      ]
     },
     "execution_count": 8,
     "metadata": {},
     "output_type": "execute_result"
    }
   ],
   "source": [
    "#Compare if A is greater than B element-wise\n",
    "np.greater(A,B)"
   ]
  },
  {
   "cell_type": "code",
   "execution_count": null,
   "metadata": {
    "colab": {
     "base_uri": "https://localhost:8080/"
    },
    "id": "qtoQzw8jaCUh",
    "outputId": "f3ef5e64-e122-4e3a-9dcf-85aae8b02cb9"
   },
   "outputs": [
    {
     "data": {
      "text/plain": [
       "array([ True, False, False, False, False])"
      ]
     },
     "execution_count": 9,
     "metadata": {},
     "output_type": "execute_result"
    }
   ],
   "source": [
    "#Compare if A is lesser than B element-wise\n",
    "np.less(A,B)"
   ]
  },
  {
   "cell_type": "markdown",
   "metadata": {
    "id": "u_WOpylAaCUi"
   },
   "source": [
    "#### Conclusion: This code demonstrates how to create arrays in NumPy and how to use different logic functions."
   ]
  }
 ],
 "metadata": {
  "colab": {
   "provenance": []
  },
  "kernelspec": {
   "display_name": "Python 3",
   "language": "python",
   "name": "python3"
  },
  "language_info": {
   "codemirror_mode": {
    "name": "ipython",
    "version": 3
   },
   "file_extension": ".py",
   "mimetype": "text/x-python",
   "name": "python",
   "nbconvert_exporter": "python",
   "pygments_lexer": "ipython3",
   "version": "3.7.3"
  }
 },
 "nbformat": 4,
 "nbformat_minor": 0
}
