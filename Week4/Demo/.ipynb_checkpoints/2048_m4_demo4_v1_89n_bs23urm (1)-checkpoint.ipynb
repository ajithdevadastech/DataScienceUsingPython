{
 "cells": [
  {
   "cell_type": "markdown",
   "metadata": {
    "id": "dZQIU-q_XsEp"
   },
   "source": [
    "<h2><u>Data Science Using Python</u></h2>\n",
    "\n",
    "# Module 4: Control Flow and Functions\n",
    "\n",
    "## Demo 4: Bank Account Example"
   ]
  },
  {
   "cell_type": "markdown",
   "metadata": {
    "id": "8ove4mYJXsEt"
   },
   "source": [
    "In this demo, you will be shown how to implement class and functions."
   ]
  },
  {
   "cell_type": "markdown",
   "metadata": {
    "id": "2R-WS2pDXsEu"
   },
   "source": [
    "### Step 1: Create class and required functions"
   ]
  },
  {
   "cell_type": "code",
   "execution_count": null,
   "metadata": {
    "id": "zO0e7U9hXsEv"
   },
   "outputs": [],
   "source": [
    "class Bank_Account: \n",
    "#The _init_ function run as soon as an object of a class is instantiated\n",
    "    def __init__(self): \n",
    "        self.balance=0\n",
    "        print(\"Hello! Welcome to the Deposit & Withdrawal Machine\") \n",
    "#function to deposit money\n",
    "    def deposit(self): \n",
    "        amount=float(input(\"Enter amount to be Deposited: \")) \n",
    "        self.balance += amount \n",
    "        print(\"\\n Amount Deposited:\",amount) \n",
    "#function to withdraw money\n",
    "    def withdraw(self,amount): \n",
    "        if self.balance>=amount: \n",
    "            self.balance-=amount \n",
    "            print(\"\\n You Withdrew:\", amount) \n",
    "        else: \n",
    "            print(\"\\n Insufficient balance  \") \n",
    "#function to display the amount\n",
    "    def display(self): \n",
    "        print(\"\\n Net Available Balance=\",round(self.balance,2) )"
   ]
  },
  {
   "cell_type": "markdown",
   "metadata": {
    "id": "534RlsDuXsEw"
   },
   "source": [
    "### Step 2: Create object of the class and call the functions"
   ]
  },
  {
   "cell_type": "code",
   "execution_count": null,
   "metadata": {
    "colab": {
     "base_uri": "https://localhost:8080/"
    },
    "id": "tCXwaQLGXsEx",
    "outputId": "002f75d2-565d-4d40-a535-66f221ff9438"
   },
   "outputs": [
    {
     "name": "stdout",
     "output_type": "stream",
     "text": [
      "Hello! Welcome to the Deposit & Withdrawal Machine\n",
      "Enter amount to be Deposited: 500\n",
      "\n",
      " Amount Deposited: 500.0\n",
      "Enter amount to withdraw: 200\n",
      "\n",
      " You Withdrew: 200.0\n",
      "\n",
      " Net Available Balance= 300.0\n"
     ]
    }
   ],
   "source": [
    "#create object of the class\n",
    "s = Bank_Account() \n",
    "   \n",
    "# Call functions with that class object \n",
    "s.deposit() \n",
    "withdraw_amt=float(input(\"Enter amount to withdraw: \")) \n",
    "#Pass arguement to the withdraw function\n",
    "s.withdraw(withdraw_amt) \n",
    "s.display() "
   ]
  },
  {
   "cell_type": "markdown",
   "metadata": {
    "id": "IJlmkpjqXsEy"
   },
   "source": [
    "#### Conclusion: This code demonstrates the function and class in Python."
   ]
  }
 ],
 "metadata": {
  "colab": {
   "provenance": []
  },
  "kernelspec": {
   "display_name": "Python 3",
   "language": "python",
   "name": "python3"
  },
  "language_info": {
   "codemirror_mode": {
    "name": "ipython",
    "version": 3
   },
   "file_extension": ".py",
   "mimetype": "text/x-python",
   "name": "python",
   "nbconvert_exporter": "python",
   "pygments_lexer": "ipython3",
   "version": "3.7.3"
  }
 },
 "nbformat": 4,
 "nbformat_minor": 0
}
