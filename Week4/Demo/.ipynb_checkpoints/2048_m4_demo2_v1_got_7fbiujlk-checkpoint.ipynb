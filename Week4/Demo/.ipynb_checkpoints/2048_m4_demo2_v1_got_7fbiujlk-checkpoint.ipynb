{
 "cells": [
  {
   "cell_type": "markdown",
   "metadata": {
    "id": "YqcTxYvZWYVD"
   },
   "source": [
    "\n",
    "<h2><u>Data Science Using Python</u></h2>\n",
    "\n",
    "# Module 4: Control Flow And Functions\n",
    "\n",
    "## Demo 2:  Implementing For Loop"
   ]
  },
  {
   "cell_type": "markdown",
   "metadata": {
    "id": "B7afKJAhWYVI"
   },
   "source": [
    "In this demo, you will be shown how to perform iteration over list, tuples, string and dictionaries and implementation of Fibonacci series using for loop."
   ]
  },
  {
   "cell_type": "markdown",
   "metadata": {
    "id": "bS_nuJIlWYVJ"
   },
   "source": [
    "### Perform iteration over list, tuple, strings, and dictionaries"
   ]
  },
  {
   "cell_type": "markdown",
   "metadata": {
    "id": "xWNATewPWYVJ"
   },
   "source": [
    "### Step 1: Iterate over a list"
   ]
  },
  {
   "cell_type": "code",
   "execution_count": null,
   "metadata": {
    "colab": {
     "base_uri": "https://localhost:8080/"
    },
    "collapsed": false,
    "id": "o3KaueU7WYVK",
    "outputId": "6c332553-6f16-41ac-9da4-b7a85f0e99e3"
   },
   "outputs": [
    {
     "name": "stdout",
     "output_type": "stream",
     "text": [
      "List Iteration\n",
      "Tit\n",
      "for\n",
      "Tat\n"
     ]
    }
   ],
   "source": [
    "print(\"List Iteration\") \n",
    "l = [\"Tit\", \"for\", \"Tat\"] \n",
    "for i in l: \n",
    "    print(i) "
   ]
  },
  {
   "cell_type": "markdown",
   "metadata": {
    "id": "UNZFhcv1WYVM"
   },
   "source": [
    "### Step 2: Iterate over a tuple"
   ]
  },
  {
   "cell_type": "code",
   "execution_count": null,
   "metadata": {
    "colab": {
     "base_uri": "https://localhost:8080/"
    },
    "collapsed": false,
    "id": "WLbekLwVWYVM",
    "outputId": "c6f1ab88-3191-473c-bef0-b08b2c8fa077"
   },
   "outputs": [
    {
     "name": "stdout",
     "output_type": "stream",
     "text": [
      "\n",
      "Tuple Iteration\n",
      "Tit\n",
      "for\n",
      "Tat\n"
     ]
    }
   ],
   "source": [
    "# Iterating over a tuple (immutable) \n",
    "print(\"\\nTuple Iteration\") \n",
    "t = (\"Tit\", \"for\", \"Tat\") \n",
    "for i in t: \n",
    "    print(i) "
   ]
  },
  {
   "cell_type": "markdown",
   "metadata": {
    "id": "3xfWn2QDWYVN"
   },
   "source": [
    "### Step 3: Iterate over a string"
   ]
  },
  {
   "cell_type": "code",
   "execution_count": null,
   "metadata": {
    "colab": {
     "base_uri": "https://localhost:8080/"
    },
    "collapsed": false,
    "id": "XX4E1I_TWYVO",
    "outputId": "2db3d6d5-a895-4132-e554-b1ab37bde581"
   },
   "outputs": [
    {
     "name": "stdout",
     "output_type": "stream",
     "text": [
      "Enter a string: Edureka\n",
      "The string is not a palindrome.\n"
     ]
    }
   ],
   "source": [
    "#Iterating over a string\n",
    "# Taking a string from user\n",
    "s = input(\"Enter a string: \")\n",
    "# checking for palindrome using the for loop\n",
    "for i in range(0,len(s)//2):\n",
    "    if(s[i] != s[len(s)-i-1]):\n",
    "        found = False\n",
    "        break\n",
    "else:\n",
    "    found = True\n",
    "# Checking whether the given string and reversed string is same\n",
    "if found:\n",
    "    print(\"The string is a palindrome.\")\n",
    "else:\n",
    "    print(\"The string is not a palindrome.\")\n",
    "       \n"
   ]
  },
  {
   "cell_type": "markdown",
   "metadata": {
    "id": "j15FFhjQWYVO"
   },
   "source": [
    "### Step 4: Iterate over a dictionary"
   ]
  },
  {
   "cell_type": "code",
   "execution_count": null,
   "metadata": {
    "colab": {
     "base_uri": "https://localhost:8080/"
    },
    "collapsed": false,
    "id": "8aDuGQu6WYVP",
    "outputId": "c2cfda53-d888-44d6-f1c4-c1875a0dbc9c"
   },
   "outputs": [
    {
     "name": "stdout",
     "output_type": "stream",
     "text": [
      "List Of given states and their capitals:\n",
      "\n",
      "Goa : Panjim\n",
      "Maharashtra : Mumbai\n",
      "Karnataka : Bengaluru\n",
      "Tamil Nadu : Chennai\n"
     ]
    }
   ],
   "source": [
    "# Iterating over dictionary \n",
    "statesAndCapitals = { \n",
    "                     'Goa' : 'Panjim','Maharashtra' : 'Mumbai',\n",
    "    'Karnataka' : 'Bengaluru','Tamil Nadu' : 'Chennai'\n",
    "                    } \n",
    "                      \n",
    "print('List Of given states and their capitals:\\n') \n",
    "  \n",
    "# Iterating over values \n",
    "for state, capital in statesAndCapitals.items(): \n",
    "    print(state, \":\", capital) \n"
   ]
  },
  {
   "cell_type": "markdown",
   "metadata": {
    "id": "m_xFArFoWYVP"
   },
   "source": [
    "### Implementation of Fibonacci series using for loop"
   ]
  },
  {
   "cell_type": "markdown",
   "metadata": {
    "id": "YN0kL1hoWYVP"
   },
   "source": [
    "### Step 1: Take input from user "
   ]
  },
  {
   "cell_type": "code",
   "execution_count": null,
   "metadata": {
    "colab": {
     "base_uri": "https://localhost:8080/"
    },
    "collapsed": false,
    "id": "HaHRpuxsWYVQ",
    "outputId": "9465978a-c589-4669-a506-dee9cc5c8d65"
   },
   "outputs": [
    {
     "name": "stdout",
     "output_type": "stream",
     "text": [
      "\n",
      "Please Enter the Range Number for which You Want to Print the Fibonacci Series : 9\n"
     ]
    }
   ],
   "source": [
    "# Fibonacci series will start at 0 and continue upto below number\n",
    "Number = int(input(\"\\nPlease Enter the Range Number for which You Want to Print the Fibonacci Series : \"))"
   ]
  },
  {
   "cell_type": "markdown",
   "metadata": {
    "id": "6MZlzrpXWYVQ"
   },
   "source": [
    "### Step 2: Initialize first and second value from the inputs"
   ]
  },
  {
   "cell_type": "code",
   "execution_count": null,
   "metadata": {
    "collapsed": true,
    "id": "80zMcju0WYVQ"
   },
   "outputs": [],
   "source": [
    "First_Value = 0\n",
    "Second_Value = 1"
   ]
  },
  {
   "cell_type": "markdown",
   "metadata": {
    "id": "Fn9TvXPVWYVQ"
   },
   "source": [
    "### Step 3: Generate and display fibonacci series"
   ]
  },
  {
   "cell_type": "code",
   "execution_count": null,
   "metadata": {
    "colab": {
     "base_uri": "https://localhost:8080/"
    },
    "collapsed": false,
    "id": "A3vxwyV8WYVR",
    "outputId": "cdd405a8-fc10-4a31-a7fb-3ad4d545c7f8"
   },
   "outputs": [
    {
     "name": "stdout",
     "output_type": "stream",
     "text": [
      "0\n",
      "1\n",
      "1\n",
      "2\n",
      "3\n",
      "5\n",
      "8\n",
      "13\n",
      "21\n"
     ]
    }
   ],
   "source": [
    "for Num in range(0, Number):\n",
    "           if(Num <= 1):\n",
    "                      Next = Num\n",
    "           else:\n",
    "                      Next = First_Value + Second_Value\n",
    "                      First_Value = Second_Value\n",
    "                      Second_Value = Next\n",
    "           print(Next)"
   ]
  },
  {
   "cell_type": "markdown",
   "metadata": {
    "id": "P1l28qvXWYVR"
   },
   "source": [
    "#### Conclusion: This code demonstrates how to implement for loop."
   ]
  },
  {
   "cell_type": "code",
   "execution_count": null,
   "metadata": {
    "collapsed": true,
    "id": "hI7LpRDQWYVR"
   },
   "outputs": [],
   "source": []
  }
 ],
 "metadata": {
  "colab": {
   "provenance": []
  },
  "kernelspec": {
   "display_name": "Python 3 (ipykernel)",
   "language": "python",
   "name": "python3"
  },
  "language_info": {
   "codemirror_mode": {
    "name": "ipython",
    "version": 3
   },
   "file_extension": ".py",
   "mimetype": "text/x-python",
   "name": "python",
   "nbconvert_exporter": "python",
   "pygments_lexer": "ipython3",
   "version": "3.9.7"
  }
 },
 "nbformat": 4,
 "nbformat_minor": 0
}
