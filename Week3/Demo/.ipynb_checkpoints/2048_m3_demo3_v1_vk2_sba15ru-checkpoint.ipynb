{
 "cells": [
  {
   "cell_type": "markdown",
   "metadata": {
    "id": "H2bQBzMhUKdS"
   },
   "source": [
    "## <u>Data Science Using Python</u>\n",
    "\n",
    "# Module 3: Python Fundamentals\n",
    "\n",
    "## Demo 3: Strings in Python\n",
    "\n",
    "You will become familiar with strings in Python and how to use various operations on them in this demo."
   ]
  },
  {
   "cell_type": "markdown",
   "metadata": {},
   "source": [
    "**Payal is working on Strings**"
   ]
  },
  {
   "cell_type": "code",
   "execution_count": 1,
   "metadata": {
    "colab": {
     "base_uri": "https://localhost:8080/"
    },
    "id": "NFdLqgIeUKdX",
    "outputId": "86d0df06-98d4-4026-e3f4-cb7d141f8b7f"
   },
   "outputs": [
    {
     "name": "stdout",
     "output_type": "stream",
     "text": [
      "Good Morning Students From \n",
      "    Edureka\n"
     ]
    }
   ],
   "source": [
    "# Different ways to initialize strings in python\n",
    "A=\"Good\"\n",
    "B=\"Morning\"\n",
    "C=\"\"\"Students\"\"\"\n",
    "D='''From \n",
    "    Edureka''' #can be multiline\n",
    "print(A,B,C,D)"
   ]
  },
  {
   "cell_type": "markdown",
   "metadata": {},
   "source": [
    "**She learns that there are various escape sequences provided in python that can be used to display quotes, newline.**"
   ]
  },
  {
   "cell_type": "code",
   "execution_count": 36,
   "metadata": {
    "colab": {
     "base_uri": "https://localhost:8080/"
    },
    "id": "Ozm4_i9NUKdZ",
    "outputId": "ec310ba1-3e44-40ac-8d73-cabbf889f666"
   },
   "outputs": [
    {
     "name": "stdout",
     "output_type": "stream",
     "text": [
      "Hello!\n",
      "Edurekan\n",
      "Cat goes?London\n",
      "Cats 'London'\n",
      "C:\\Python32\\Lib\n"
     ]
    }
   ],
   "source": [
    "# Backslash\n",
    "A='Hello!\\nEdurekan'\n",
    "print(A)\n",
    "B=input('Cat goes?') # Taking input from user\n",
    "print('Cats \\'%s\\''%B) \n",
    "\n",
    "print(\"C:\\\\Python32\\\\Lib\") # Simple text\n"
   ]
  },
  {
   "cell_type": "markdown",
   "metadata": {},
   "source": [
    "**Payal now takes names and surnames of all her friends as input, seperated by  ','**"
   ]
  },
  {
   "cell_type": "code",
   "execution_count": 38,
   "metadata": {
    "colab": {
     "base_uri": "https://localhost:8080/"
    },
    "id": "g59Sztl2UKda",
    "outputId": "f6bea8c7-bc60-4898-ff87-3d5b45b6a951"
   },
   "outputs": [
    {
     "name": "stdout",
     "output_type": "stream",
     "text": [
      "Names:arpit,sarvagya\n",
      "['arpit', 'sarvagya']\n"
     ]
    }
   ],
   "source": [
    "Names=input('Names:').split(',') # Enter two name and seprate them by comma.\n",
    "print(Names)"
   ]
  },
  {
   "cell_type": "code",
   "execution_count": 39,
   "metadata": {
    "colab": {
     "base_uri": "https://localhost:8080/"
    },
    "id": "ObtLty2FUKda",
    "outputId": "88c081be-0e28-43e5-8e67-35732101f34d"
   },
   "outputs": [
    {
     "name": "stdout",
     "output_type": "stream",
     "text": [
      "Sarvagya\n"
     ]
    }
   ],
   "source": [
    "# capitalise the initial letter of second name.\n",
    "print(Names[1].capitalize())"
   ]
  },
  {
   "cell_type": "code",
   "execution_count": 40,
   "metadata": {
    "colab": {
     "base_uri": "https://localhost:8080/"
    },
    "id": "iFQfjjCmUKdb",
    "outputId": "0badf58e-0aed-42b9-e09a-9d156a7d473c"
   },
   "outputs": [
    {
     "name": "stdout",
     "output_type": "stream",
     "text": [
      "Surnames: pande,malhotra\n",
      "['pande', 'malhotra']\n"
     ]
    }
   ],
   "source": [
    "Surnames=input('Surnames: ').split(',') # Enter surnames for above namea and seprate them by comma.\n",
    "print(Surnames)"
   ]
  },
  {
   "cell_type": "code",
   "execution_count": 41,
   "metadata": {
    "colab": {
     "base_uri": "https://localhost:8080/"
    },
    "id": "4n1eC4NwUKdb",
    "outputId": "627d4a2e-145f-47a5-b9fe-d760d328eacd"
   },
   "outputs": [
    {
     "name": "stdout",
     "output_type": "stream",
     "text": [
      "Sarvagya Malhotra\n"
     ]
    }
   ],
   "source": [
    "# The the full name of second friend will be\n",
    "print(Names[1].capitalize()+' '+Surnames[1].capitalize()) "
   ]
  },
  {
   "cell_type": "code",
   "execution_count": 20,
   "metadata": {
    "colab": {
     "base_uri": "https://localhost:8080/"
    },
    "id": "f501gO1oUKdc",
    "outputId": "ce66ce65-4acd-4be0-9b96-fe469fffda34"
   },
   "outputs": [
    {
     "name": "stdout",
     "output_type": "stream",
     "text": [
      "Quote 1 Startswith 'Happiness': True\n",
      "Quote 2 Startswith 'Happiness': False\n",
      "Quote 1 Endstwith 'gardens': False\n",
      "Quote 2 Endsswith 'gardens': True\n"
     ]
    }
   ],
   "source": [
    "# Let us see some more functions on strings\n",
    "quote1='''Happiness can be defined, in part at least, \n",
    "        as the fruit of the desire and ability to sacrifice \n",
    "        what we want now for what we want eventually\n",
    "     '''\n",
    "quote2='Sadness is but a wall between two gardens'\n",
    "\n",
    "print('Quote 1 Startswith \\'Happiness\\': %s'%quote1.startswith('Happiness'))\n",
    "print('Quote 2 Startswith \\'Happiness\\': %s'%quote2.startswith('Happiness'))\n",
    "print('Quote 1 Endstwith \\'gardens\\': %s'%quote1.endswith('gardens'))\n",
    "print('Quote 2 Endsswith \\'gardens\\': %s'%quote2.endswith('gardens'))"
   ]
  },
  {
   "cell_type": "code",
   "execution_count": 43,
   "metadata": {
    "colab": {
     "base_uri": "https://localhost:8080/"
    },
    "id": "wNzpMXvTUKdc",
    "outputId": "2ba79749-a846-43ba-bb2a-c14cee473ad5"
   },
   "outputs": [
    {
     "name": "stdout",
     "output_type": "stream",
     "text": [
      "index of 'fruit': 60\n",
      "fruit\n",
      "fruit of the desire and ability to sacrifice \n",
      "        what we want now for what we want eventually\n",
      "     \n",
      "Happiness can be defined, in part at least, \n",
      "        as the \n",
      "     \n",
      "yllautneve tnaw ew tahw rof won tnaw ew tahw        \n",
      " ecifircas ot ytiliba dna erised eht fo tiurf eht sa        \n",
      " ,tsael ta trap ni ,denifed eb nac ssenippaH\n",
      "fruit of the desire and ability to sacrifice \n",
      "        what we want now for what we want \n"
     ]
    }
   ],
   "source": [
    "print('index of \\'fruit\\': %d'%quote1.index('fruit'))\n",
    "print(quote1[60:65]) #slicing the strings for 60th to 64th index.\n",
    "print(quote1[60:])\n",
    "print(quote1[:60])\n",
    "print(quote1[::-1]) # reverse of string \n",
    "print(quote1[60:-16])"
   ]
  },
  {
   "cell_type": "code",
   "execution_count": 44,
   "metadata": {
    "colab": {
     "base_uri": "https://localhost:8080/"
    },
    "id": "cxrxEylLUKdd",
    "outputId": "4b667ea1-87d7-4092-91a1-195130d17207"
   },
   "outputs": [
    {
     "name": "stdout",
     "output_type": "stream",
     "text": [
      "Happiness can be defined, in part at least, \n",
      "        as the fruit of the desire and ability to sacrifice \n",
      "        what we want now for what we want eventually\n",
      "     \n",
      "Happiness can be defined, in part at least, \n",
      "        as the result of the desire and ability to sacrifice \n",
      "        what we want now for what we want eventually\n",
      "     \n"
     ]
    }
   ],
   "source": [
    "quote1.replace('fruit','result')\n",
    "print(quote1) #no change why? Strings are immutable we need to assign to new one\n",
    "quote3=quote1.replace('fruit','result')\n",
    "print(quote3)"
   ]
  },
  {
   "cell_type": "markdown",
   "metadata": {},
   "source": [
    "**Payal wants to find out whether the given string is a number or text**"
   ]
  },
  {
   "cell_type": "code",
   "execution_count": 47,
   "metadata": {
    "colab": {
     "base_uri": "https://localhost:8080/"
    },
    "id": "f3kdQJc3UKdd",
    "outputId": "e7ba46d1-7e5a-40df-9958-f9c57868fa3b"
   },
   "outputs": [
    {
     "name": "stdout",
     "output_type": "stream",
     "text": [
      "String:hello\n",
      "False\n",
      "True\n"
     ]
    }
   ],
   "source": [
    "# if its text, she wants to change the case of string.\n",
    "text=input('String:')\n",
    "print(text.isnumeric())\n",
    "print(text.isalpha())"
   ]
  },
  {
   "cell_type": "code",
   "execution_count": 48,
   "metadata": {
    "colab": {
     "base_uri": "https://localhost:8080/"
    },
    "id": "J_bfdIJCUKde",
    "outputId": "03f505dc-8f4d-4c44-96f5-4b567ef1c597"
   },
   "outputs": [
    {
     "name": "stdout",
     "output_type": "stream",
     "text": [
      "False\n",
      "True\n"
     ]
    }
   ],
   "source": [
    "print(text.isupper())\n",
    "print(text.islower())"
   ]
  },
  {
   "cell_type": "code",
   "execution_count": 54,
   "metadata": {
    "colab": {
     "base_uri": "https://localhost:8080/"
    },
    "id": "kdcCHDh7UKde",
    "outputId": "293a9bf7-f109-48c5-fc83-c4eb43a11b79"
   },
   "outputs": [
    {
     "name": "stdout",
     "output_type": "stream",
     "text": [
      "123\n"
     ]
    }
   ],
   "source": [
    "# 'upper' will change the case to uppercase for every character\n",
    "print(text.upper())"
   ]
  },
  {
   "cell_type": "code",
   "execution_count": 52,
   "metadata": {
    "colab": {
     "base_uri": "https://localhost:8080/"
    },
    "id": "2-qojEZ9UKdf",
    "outputId": "5bb8419f-7c52-4579-ff13-81f8350f351b"
   },
   "outputs": [
    {
     "name": "stdout",
     "output_type": "stream",
     "text": [
      "String:123\n",
      "True\n",
      "False\n"
     ]
    }
   ],
   "source": [
    "text=input('String:')\n",
    "print(text.isnumeric()) # It will check if input is numeric or not.\n",
    "print(text.isalpha())"
   ]
  },
  {
   "cell_type": "code",
   "execution_count": 53,
   "metadata": {
    "colab": {
     "base_uri": "https://localhost:8080/"
    },
    "id": "dHYlfD1SUKdf",
    "outputId": "daf73b96-d4c3-43e6-bfef-090e9a872d2b",
    "scrolled": false
   },
   "outputs": [
    {
     "data": {
      "text/plain": [
       "['__add__',\n",
       " '__class__',\n",
       " '__contains__',\n",
       " '__delattr__',\n",
       " '__dir__',\n",
       " '__doc__',\n",
       " '__eq__',\n",
       " '__format__',\n",
       " '__ge__',\n",
       " '__getattribute__',\n",
       " '__getitem__',\n",
       " '__getnewargs__',\n",
       " '__gt__',\n",
       " '__hash__',\n",
       " '__init__',\n",
       " '__init_subclass__',\n",
       " '__iter__',\n",
       " '__le__',\n",
       " '__len__',\n",
       " '__lt__',\n",
       " '__mod__',\n",
       " '__mul__',\n",
       " '__ne__',\n",
       " '__new__',\n",
       " '__reduce__',\n",
       " '__reduce_ex__',\n",
       " '__repr__',\n",
       " '__rmod__',\n",
       " '__rmul__',\n",
       " '__setattr__',\n",
       " '__sizeof__',\n",
       " '__str__',\n",
       " '__subclasshook__',\n",
       " 'capitalize',\n",
       " 'casefold',\n",
       " 'center',\n",
       " 'count',\n",
       " 'encode',\n",
       " 'endswith',\n",
       " 'expandtabs',\n",
       " 'find',\n",
       " 'format',\n",
       " 'format_map',\n",
       " 'index',\n",
       " 'isalnum',\n",
       " 'isalpha',\n",
       " 'isascii',\n",
       " 'isdecimal',\n",
       " 'isdigit',\n",
       " 'isidentifier',\n",
       " 'islower',\n",
       " 'isnumeric',\n",
       " 'isprintable',\n",
       " 'isspace',\n",
       " 'istitle',\n",
       " 'isupper',\n",
       " 'join',\n",
       " 'ljust',\n",
       " 'lower',\n",
       " 'lstrip',\n",
       " 'maketrans',\n",
       " 'partition',\n",
       " 'removeprefix',\n",
       " 'removesuffix',\n",
       " 'replace',\n",
       " 'rfind',\n",
       " 'rindex',\n",
       " 'rjust',\n",
       " 'rpartition',\n",
       " 'rsplit',\n",
       " 'rstrip',\n",
       " 'split',\n",
       " 'splitlines',\n",
       " 'startswith',\n",
       " 'strip',\n",
       " 'swapcase',\n",
       " 'title',\n",
       " 'translate',\n",
       " 'upper',\n",
       " 'zfill']"
      ]
     },
     "execution_count": 53,
     "metadata": {},
     "output_type": "execute_result"
    }
   ],
   "source": [
    "dir(str) # Returns valid attributes and methods of the parent class"
   ]
  },
  {
   "cell_type": "markdown",
   "metadata": {
    "id": "RW5UR8EUUKdf"
   },
   "source": [
    "##### Conclusion: This code demonstrates how to create and perform various operations on strings in python."
   ]
  }
 ],
 "metadata": {
  "colab": {
   "provenance": []
  },
  "kernelspec": {
   "display_name": "Python 3 (ipykernel)",
   "language": "python",
   "name": "python3"
  },
  "language_info": {
   "codemirror_mode": {
    "name": "ipython",
    "version": 3
   },
   "file_extension": ".py",
   "mimetype": "text/x-python",
   "name": "python",
   "nbconvert_exporter": "python",
   "pygments_lexer": "ipython3",
   "version": "3.9.13"
  }
 },
 "nbformat": 4,
 "nbformat_minor": 1
}
