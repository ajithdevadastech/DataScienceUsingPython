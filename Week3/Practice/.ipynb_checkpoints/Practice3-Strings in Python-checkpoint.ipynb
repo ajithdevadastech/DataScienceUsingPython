{
 "cells": [
  {
   "cell_type": "code",
   "execution_count": 1,
   "metadata": {
    "collapsed": false
   },
   "outputs": [
    {
     "name": "stdout",
     "output_type": "stream",
     "text": [
      "Good Morning Students From \n",
      "    Edureka\n"
     ]
    }
   ],
   "source": [
    "# Different ways to initialize strings in python\n",
    "A=\"Good\"\n",
    "B=\"Morning\"\n",
    "C=\"\"\"Students\"\"\"\n",
    "D='''From \n",
    "    Edureka''' #can be multiline\n",
    "print(A,B,C,D)\n"
   ]
  },
  {
   "cell_type": "code",
   "execution_count": 2,
   "metadata": {
    "collapsed": false
   },
   "outputs": [
    {
     "name": "stdout",
     "output_type": "stream",
     "text": [
      "Hello!\n",
      "Edurekan\n",
      "Cat goes?London\n",
      "Cats 'London'\n",
      "C:\\Python32\\Lib\n"
     ]
    }
   ],
   "source": [
    "# Backslash\n",
    "A='Hello!\\nEdurekan'\n",
    "print(A)\n",
    "B=input('Cat goes?') # Taking input from user\n",
    "print('Cats \\'%s\\''%B) \n",
    "\n",
    "print(\"C:\\\\Python32\\\\Lib\") # Simple text"
   ]
  },
  {
   "cell_type": "code",
   "execution_count": 3,
   "metadata": {
    "collapsed": false
   },
   "outputs": [
    {
     "name": "stdout",
     "output_type": "stream",
     "text": [
      "Names:Ajith, Devadas\n",
      "['Ajith', ' Devadas']\n"
     ]
    }
   ],
   "source": [
    "Names=input('Names:').split(',') # Enter two name and seprate them by comma.\n",
    "print(Names)"
   ]
  },
  {
   "cell_type": "code",
   "execution_count": 4,
   "metadata": {
    "collapsed": false
   },
   "outputs": [
    {
     "name": "stdout",
     "output_type": "stream",
     "text": [
      " devadas\n"
     ]
    }
   ],
   "source": [
    "print(Names[1].capitalize())\n"
   ]
  },
  {
   "cell_type": "code",
   "execution_count": 5,
   "metadata": {
    "collapsed": false
   },
   "outputs": [
    {
     "name": "stdout",
     "output_type": "stream",
     "text": [
      "Surnames: Devadas,Menon\n",
      "['Devadas', 'Menon']\n"
     ]
    }
   ],
   "source": [
    "Surnames=input('Surnames: ').split(',') # Enter surnames for above namea and seprate them by comma.\n",
    "print(Surnames)"
   ]
  },
  {
   "cell_type": "code",
   "execution_count": 6,
   "metadata": {
    "collapsed": false
   },
   "outputs": [
    {
     "name": "stdout",
     "output_type": "stream",
     "text": [
      " devadas Menon\n"
     ]
    }
   ],
   "source": [
    "# The the full name of second friend will be\n",
    "print(Names[1].capitalize()+' '+Surnames[1].capitalize()) "
   ]
  },
  {
   "cell_type": "code",
   "execution_count": 7,
   "metadata": {
    "collapsed": false
   },
   "outputs": [
    {
     "name": "stdout",
     "output_type": "stream",
     "text": [
      "Quote 1 Startswith 'Happiness': True\n",
      "Quote 2 Startswith 'Happiness': False\n",
      "Quote 1 Endstwith 'gardens': False\n",
      "Quote 2 Endsswith 'gardens': True\n"
     ]
    }
   ],
   "source": [
    "# Let us see some more functions on strings\n",
    "quote1='''Happiness can be defined, in part at least, \n",
    "        as the fruit of the desire and ability to sacrifice \n",
    "        what we want now for what we want eventually\n",
    "     '''\n",
    "quote2='Sadness is but a wall between two gardens'\n",
    "\n",
    "print('Quote 1 Startswith \\'Happiness\\': %s'%quote1.startswith('Happiness'))\n",
    "print('Quote 2 Startswith \\'Happiness\\': %s'%quote2.startswith('Happiness'))\n",
    "print('Quote 1 Endstwith \\'gardens\\': %s'%quote1.endswith('gardens'))\n",
    "print('Quote 2 Endsswith \\'gardens\\': %s'%quote2.endswith('gardens'))"
   ]
  },
  {
   "cell_type": "code",
   "execution_count": 8,
   "metadata": {
    "collapsed": false
   },
   "outputs": [
    {
     "name": "stdout",
     "output_type": "stream",
     "text": [
      "index of 'fruit': 60\n",
      "fruit\n",
      "fruit of the desire and ability to sacrifice \n",
      "        what we want now for what we want eventually\n",
      "     \n",
      "Happiness can be defined, in part at least, \n",
      "        as the \n",
      "     \n",
      "yllautneve tnaw ew tahw rof won tnaw ew tahw        \n",
      " ecifircas ot ytiliba dna erised eht fo tiurf eht sa        \n",
      " ,tsael ta trap ni ,denifed eb nac ssenippaH\n",
      "fruit of the desire and ability to sacrifice \n",
      "        what we want now for what we want \n"
     ]
    }
   ],
   "source": [
    "print('index of \\'fruit\\': %d'%quote1.index('fruit'))\n",
    "print(quote1[60:65]) #slicing the strings for 60th to 64th index.\n",
    "print(quote1[60:])\n",
    "print(quote1[:60])\n",
    "print(quote1[::-1]) # reverse of string \n",
    "print(quote1[60:-16])"
   ]
  },
  {
   "cell_type": "code",
   "execution_count": 9,
   "metadata": {
    "collapsed": false
   },
   "outputs": [
    {
     "name": "stdout",
     "output_type": "stream",
     "text": [
      "Happiness can be defined, in part at least, \n",
      "        as the fruit of the desire and ability to sacrifice \n",
      "        what we want now for what we want eventually\n",
      "     \n",
      "Happiness can be defined, in part at least, \n",
      "        as the result of the desire and ability to sacrifice \n",
      "        what we want now for what we want eventually\n",
      "     \n"
     ]
    }
   ],
   "source": [
    "quote1.replace('fruit','result')\n",
    "print(quote1) #no change why? Strings are immutable we need to assign to new one\n",
    "quote3=quote1.replace('fruit','result')\n",
    "print(quote3)"
   ]
  },
  {
   "cell_type": "code",
   "execution_count": 10,
   "metadata": {
    "collapsed": false
   },
   "outputs": [
    {
     "name": "stdout",
     "output_type": "stream",
     "text": [
      "String:Devadas\n",
      "False\n",
      "True\n"
     ]
    }
   ],
   "source": [
    "# if its text, she wants to change the case of string.\n",
    "text=input('String:')\n",
    "print(text.isnumeric())\n",
    "print(text.isalpha())"
   ]
  },
  {
   "cell_type": "code",
   "execution_count": 11,
   "metadata": {
    "collapsed": false
   },
   "outputs": [
    {
     "name": "stdout",
     "output_type": "stream",
     "text": [
      "False\n",
      "False\n"
     ]
    }
   ],
   "source": [
    "print(text.isupper())\n",
    "print(text.islower())"
   ]
  },
  {
   "cell_type": "code",
   "execution_count": 12,
   "metadata": {
    "collapsed": false
   },
   "outputs": [
    {
     "name": "stdout",
     "output_type": "stream",
     "text": [
      "DEVADAS\n"
     ]
    }
   ],
   "source": [
    "print(text.upper())"
   ]
  },
  {
   "cell_type": "code",
   "execution_count": 13,
   "metadata": {
    "collapsed": false
   },
   "outputs": [
    {
     "name": "stdout",
     "output_type": "stream",
     "text": [
      "String:123\n",
      "True\n",
      "False\n"
     ]
    }
   ],
   "source": [
    "text=input('String:')\n",
    "print(text.isnumeric()) # It will check if input is numeric or not.\n",
    "print(text.isalpha())\n"
   ]
  },
  {
   "cell_type": "code",
   "execution_count": 14,
   "metadata": {
    "collapsed": false
   },
   "outputs": [
    {
     "data": {
      "text/plain": [
       "['__add__',\n",
       " '__class__',\n",
       " '__contains__',\n",
       " '__delattr__',\n",
       " '__dir__',\n",
       " '__doc__',\n",
       " '__eq__',\n",
       " '__format__',\n",
       " '__ge__',\n",
       " '__getattribute__',\n",
       " '__getitem__',\n",
       " '__getnewargs__',\n",
       " '__gt__',\n",
       " '__hash__',\n",
       " '__init__',\n",
       " '__init_subclass__',\n",
       " '__iter__',\n",
       " '__le__',\n",
       " '__len__',\n",
       " '__lt__',\n",
       " '__mod__',\n",
       " '__mul__',\n",
       " '__ne__',\n",
       " '__new__',\n",
       " '__reduce__',\n",
       " '__reduce_ex__',\n",
       " '__repr__',\n",
       " '__rmod__',\n",
       " '__rmul__',\n",
       " '__setattr__',\n",
       " '__sizeof__',\n",
       " '__str__',\n",
       " '__subclasshook__',\n",
       " 'capitalize',\n",
       " 'casefold',\n",
       " 'center',\n",
       " 'count',\n",
       " 'encode',\n",
       " 'endswith',\n",
       " 'expandtabs',\n",
       " 'find',\n",
       " 'format',\n",
       " 'format_map',\n",
       " 'index',\n",
       " 'isalnum',\n",
       " 'isalpha',\n",
       " 'isascii',\n",
       " 'isdecimal',\n",
       " 'isdigit',\n",
       " 'isidentifier',\n",
       " 'islower',\n",
       " 'isnumeric',\n",
       " 'isprintable',\n",
       " 'isspace',\n",
       " 'istitle',\n",
       " 'isupper',\n",
       " 'join',\n",
       " 'ljust',\n",
       " 'lower',\n",
       " 'lstrip',\n",
       " 'maketrans',\n",
       " 'partition',\n",
       " 'removeprefix',\n",
       " 'removesuffix',\n",
       " 'replace',\n",
       " 'rfind',\n",
       " 'rindex',\n",
       " 'rjust',\n",
       " 'rpartition',\n",
       " 'rsplit',\n",
       " 'rstrip',\n",
       " 'split',\n",
       " 'splitlines',\n",
       " 'startswith',\n",
       " 'strip',\n",
       " 'swapcase',\n",
       " 'title',\n",
       " 'translate',\n",
       " 'upper',\n",
       " 'zfill']"
      ]
     },
     "execution_count": 14,
     "metadata": {},
     "output_type": "execute_result"
    }
   ],
   "source": [
    "dir(str)"
   ]
  },
  {
   "cell_type": "code",
   "execution_count": null,
   "metadata": {
    "collapsed": true
   },
   "outputs": [],
   "source": []
  }
 ],
 "metadata": {
  "kernelspec": {
   "display_name": "Python 3 (ipykernel)",
   "language": "python",
   "name": "python3"
  },
  "language_info": {
   "codemirror_mode": {
    "name": "ipython",
    "version": 3
   },
   "file_extension": ".py",
   "mimetype": "text/x-python",
   "name": "python",
   "nbconvert_exporter": "python",
   "pygments_lexer": "ipython3",
   "version": "3.9.7"
  }
 },
 "nbformat": 4,
 "nbformat_minor": 0
}
